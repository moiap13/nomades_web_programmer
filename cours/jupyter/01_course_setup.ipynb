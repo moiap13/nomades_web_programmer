{
 "cells": [
  {
   "cell_type": "markdown",
   "id": "83e01e82",
   "metadata": {
    "slideshow": {
     "slide_type": "slide"
    }
   },
   "source": [
    "# Course Setup\n",
    "\n",
    "## WebProgrammer \n",
    "## Welcome to the course!\n",
    "\n",
    "### Antonio Pisanello - Nomades"
   ]
  },
  {
   "cell_type": "markdown",
   "id": "9d99275e",
   "metadata": {
    "slideshow": {
     "slide_type": "slide"
    }
   },
   "source": [
    "# Course Setup\n",
    "## Overview\n",
    "- 1. Git\n",
    "- 2. VSCode\n",
    "- 3. NodeJS\n",
    "- 4. Jest"
   ]
  },
  {
   "cell_type": "markdown",
   "id": "f0f9071e",
   "metadata": {
    "slideshow": {
     "slide_type": "slide"
    }
   },
   "source": [
    "# Git\n",
    "\n",
    "Git est un outils de gestion de version. Il permet de suivre les modifications apportées à un projet au fil du temps. Il permet également de travailler à plusieurs sur un même projet.\n",
    "Nous utiliseront Git pour récupérer les notebooks de cours et pour soumettre les exercices."
   ]
  },
  {
   "cell_type": "markdown",
   "id": "7bea0b00",
   "metadata": {
    "slideshow": {
     "slide_type": "slide"
    }
   },
   "source": [
    "# Créer un compte sur Github\n",
    "\n",
    "Nous utiliseront la plateforme Github.\n",
    "Pour créer un compte sur Github, rendez-vous sur le site de github (github.com) et cliquez sur le bouton \"Sign up\" en haut à droite."
   ]
  },
  {
   "cell_type": "markdown",
   "id": "5d916036",
   "metadata": {
    "slideshow": {
     "slide_type": "slide"
    }
   },
   "source": [
    "# Clés SSH - Local\n",
    "\n",
    "Pour pouvoir utiliser Git, il faut générer une clé SSH et l'ajouter à votre compte Github. La clé SSH remplace le mot de passe et permet de s'authentifier sans avoir à entrer de mot de passe.\n",
    "Pour se faire:\n",
    "- Ouvrez un terminal (cmd - invite de commande, pour windows)\n",
    "- Générez une clé SSH avec la commande suivante:\n",
    "```bash\n",
    "ssh-keygen\n",
    "```\n",
    "- Appuyez sur entrée pour accepter le chemin par défaut ou alors entrez un chemin personnalisé\n",
    "- Appuyez sur entrée pour ne pas mettre de passphrase"
   ]
  },
  {
   "cell_type": "markdown",
   "id": "55b7c972",
   "metadata": {
    "slideshow": {
     "slide_type": "slide"
    }
   },
   "source": [
    "Cette opération crée deux fichiers dans le dossier .ssh de votre dossier personnel:\n",
    "- id_rsa (ou votre nom personnalisé): la clé privée\n",
    "- id_rsa.pub: la clé publique"
   ]
  },
  {
   "cell_type": "markdown",
   "id": "afb844b2",
   "metadata": {
    "slideshow": {
     "slide_type": "slide"
    }
   },
   "source": [
    "# Clés SSH - Github\n",
    "\n",
    "Pour pouvoir linker votre clé personnelle avec github il faut:\n",
    "- Copier le contenu de la clé publique (id_rsa.pub)\n",
    "- Aller sur votre compte github\n",
    "- Aller dans les paramètres\n",
    "- Aller dans SSH and GPG keys\n",
    "- Cliquer sur \"New SSH key\"\n",
    "- Donner un nom à la clé\n",
    "- Coller le contenu de la clé publique\n",
    "- Cliquer sur \"Add SSH key\"\n",
    "\n",
    "Voila :)"
   ]
  },
  {
   "cell_type": "markdown",
   "id": "f094880b",
   "metadata": {
    "slideshow": {
     "slide_type": "slide"
    }
   },
   "source": [
    "# Création de votre repo personnel\n",
    "\n",
    "Pour pouvoir soumettre vos exercices, vous devez créer un repo personnel sur github.\n",
    "Pour se faire:\n",
    "\n",
    "- Aller sur votre compte github\n",
    "- Cliquer sur le bouton `New` en haut à droite\n",
    "- Donner un nom à votre repo (par exemple: *nomades-python-software-engineer-winter-2023*)\n",
    "- mettez le repo en `private`\n",
    "- Cliquer sur `Create repository`\n",
    "\n",
    "Vous serez alors redirrigé vers la page de votre repo. Pour l'instant votre repo est vide."
   ]
  },
  {
   "cell_type": "markdown",
   "id": "439c93e1",
   "metadata": {
    "slideshow": {
     "slide_type": "slide"
    }
   },
   "source": [
    "# Clonnage de votre repo\n",
    "\n",
    "Le clonnage d'un repo consiste à copier le contenu de votre repo sur votre compte github en local.\n",
    "Pour se faire:\n",
    "\n",
    "- Aller sur votre repo\n",
    "- Cliquer sur le bouton \"Code\" en vert\n",
    "- Copier le lien SSH\n",
    "- Ouvrir un terminal dans le dossier ou vous voulez cloner votre repo\n",
    "- Cloner votre repo avec la commande suivante:\n",
    "```bash\n",
    "git clone <lien ssh>\n",
    "```"
   ]
  },
  {
   "cell_type": "markdown",
   "id": "63966d38",
   "metadata": {
    "slideshow": {
     "slide_type": "slide"
    }
   },
   "source": [
    "# Ajout du repo de cours\n",
    "\n",
    "Le repo de cours est disponible a cette adresse : git@github.com:moiap13/nomades_web_programmer.git\n",
    "Pour ajouter le repo de cours, vous pouvez:\n",
    "- Ouvrir un terminal dans le dossier de votre repo\n",
    "- Entrer la comamnde suivante :\n",
    "```bash\n",
    "git remote add course git@github.com:moiap13/nomades_cweb_programmer.git\n",
    "```\n",
    "- Pour récupérer les fichiers du cours, entrez la commande suivante:\n",
    "```bash\n",
    "git pull course wp_2024_0102\n",
    "```"
   ]
  },
  {
   "cell_type": "markdown",
   "id": "a0175643",
   "metadata": {
    "slideshow": {
     "slide_type": "slide"
    }
   },
   "source": [
    "`git remote add course ...`, cette commande permet d'ajouter un repo distant. Ici on ajoute le repo de cours sous le nom `course`.\n",
    "\n",
    "`git pull course main`, cette commande permet de récupérer les fichiers du repo distant `course` sur la branche `main`."
   ]
  },
  {
   "cell_type": "markdown",
   "id": "41f30dae",
   "metadata": {
    "slideshow": {
     "slide_type": "slide"
    }
   },
   "source": [
    "# Utilisation de Git (Overview)\n",
    "\n",
    "![Git repository](./imgs/git-repository.jpg)"
   ]
  },
  {
   "cell_type": "markdown",
   "id": "5c9fc376",
   "metadata": {
    "slideshow": {
     "slide_type": "slide"
    }
   },
   "source": [
    "# Git commands\n",
    "\n",
    "Les commandes les plus utilisés sont les suivantes:\n",
    "- `git status`: permet de voir l'état de votre repo local\n",
    "- `git add <file>`: permet d'ajouter un fichier à l'index\n",
    "- `git commit -m \"<message>\"`: permet de créer un commit avec un message\n",
    "- `git push <remote> <branch>`: permet de pousser les commits sur un repo distant\n",
    "- `git pull <remote> <branch>`: permet de récupérer les commits d'un repo distant\n"
   ]
  },
  {
   "cell_type": "markdown",
   "id": "3aff96c9",
   "metadata": {
    "slideshow": {
     "slide_type": "slide"
    }
   },
   "source": [
    "# Envoi de vos fichiers sur votre repo\n",
    "\n",
    "Pour envoyer vos fichiers, vous pouvez:\n",
    "- Ouvrir un terminal dans le dossier de votre repo\n",
    "- Entrer la comamnde suivante :\n",
    "```bash\n",
    "git add .\n",
    "```\n",
    "- Entrer la comamnde suivante :\n",
    "```bash\n",
    "git commit -m \"message\"\n",
    "```\n",
    "- Entrer la comamnde suivante :\n",
    "```bash\n",
    "git push\n",
    "```"
   ]
  },
  {
   "cell_type": "markdown",
   "id": "2737d42d",
   "metadata": {
    "slideshow": {
     "slide_type": "slide"
    }
   },
   "source": [
    "## VSCode"
   ]
  },
  {
   "cell_type": "markdown",
   "id": "c49268cb",
   "metadata": {
    "slideshow": {
     "slide_type": "slide"
    }
   },
   "source": [
    "### Installation de VSCode\n",
    "\n",
    "- Télecharger et installer VSCode: https://code.visualstudio.com/download\n",
    "- Ouvrez votre `local repository` avec VSCode"
   ]
  },
  {
   "cell_type": "markdown",
   "id": "9b946b36",
   "metadata": {
    "slideshow": {
     "slide_type": "slide"
    }
   },
   "source": [
    "## NodeJS"
   ]
  },
  {
   "cell_type": "markdown",
   "id": "84db2389",
   "metadata": {
    "slideshow": {
     "slide_type": "slide"
    }
   },
   "source": [
    "### Installation de NodeJS\n",
    "\n",
    "- Télecharger et installer NodeJS: https://nodejs.org/en/download/\n",
    "- Ouvrez un terminal dans VSCode\n",
    "- Entrer la commande: `node test_nodejs.js`"
   ]
  },
  {
   "cell_type": "markdown",
   "id": "8a591984",
   "metadata": {
    "slideshow": {
     "slide_type": "slide"
    }
   },
   "source": [
    "## Jest"
   ]
  },
  {
   "cell_type": "markdown",
   "id": "80e6a29c",
   "metadata": {
    "slideshow": {
     "slide_type": "slide"
    }
   },
   "source": [
    "### Installation et configuration de Jest\n",
    "\n",
    "- Pour installer Jest, nous allons utiliser npm. npm est un gestionnaire de paquets pour NodeJS. Il permet d'installer des paquets et de les utiliser dans nos projets.\n",
    "- Ouvrez un terminal dans VSCode\n",
    "- Entrer la commande: `npm install -g jest`, cette commande permet d'installer Jest globalement (-g) sur votre machine\n",
    "- Rendez-vous avec le terminal dans le dossier `student_exercise` (la commande a entrer `cd student_exercise`)\n",
    "- Dans le terminal entrez la commande: `jest --config ./jest.config.js`"
   ]
  },
  {
   "cell_type": "markdown",
   "id": "b512418f",
   "metadata": {
    "slideshow": {
     "slide_type": "slide"
    }
   },
   "source": [
    "### Utilisation de Jest\n",
    "#### Run all tests\n",
    "\n",
    "- Rendez-vous dans le dossier `student_exercise` avec le terminal \n",
    "- Entrez la commande: `jest`"
   ]
  },
  {
   "cell_type": "markdown",
   "id": "e751299d",
   "metadata": {
    "slideshow": {
     "slide_type": "slide"
    }
   },
   "source": [
    "### Utilisation de Jest\n",
    "#### Run individual tests\n",
    "\n",
    "- Entrez la commande: `jest <PATH>`, ou PATH est le chemin jusqu'au fichier de test que vous voulez lancer\n",
    "\n",
    "- par example si je veux tester le fichier arithmetic (assumons que je suis dans `student_exercises`):\n",
    "  - `jest implementations/basics/arithmetic/arithmetic.test.js`\n",
    "  \n",
    "- par example si je veux tester le fichier arithmetic (assumons que je suis dans `arithmetic`):\n",
    "  - `jest arithmetic.test.js`"
   ]
  },
  {
   "cell_type": "markdown",
   "id": "63cd3aaa",
   "metadata": {
    "slideshow": {
     "slide_type": "slide"
    }
   },
   "source": [
    "## (Optional) make\n",
    "\n",
    "make est un outils pour executer les makefile. Les makefile sont des fichiers avec des commandes déjà pré-écrites. Ils permettent d'automatiser des tâches répétitives. Dans notre cas le makefile permet d'installer et de configurer jest ainsi que de lancer les tests Jest."
   ]
  },
  {
   "cell_type": "markdown",
   "id": "260e5bbe",
   "metadata": {
    "slideshow": {
     "slide_type": "slide"
    }
   },
   "source": [
    "### Installation de make\n",
    "#### Linux\n",
    "- Déjà installé normalement\n",
    "#### Mac\n",
    "- Déjà installé normalement\n",
    "- Si ce n'est pas le cas, ouvrez un terminal écriver `make` et `enter` le system vous demandera d'installer les outils de développement. Suivez les instructions.\n",
    "#### Windows\n",
    "- Installer make avec chocolatey: `choco install make`\n",
    "- Si vous n'avez pas chocolatey, suivez les instructions ici: https://chocolatey.org/install /!\\ séléctionnez bien `individual`\n",
    "  "
   ]
  },
  {
   "cell_type": "markdown",
   "id": "177da5fb",
   "metadata": {
    "slideshow": {
     "slide_type": "slide"
    }
   },
   "source": [
    "### Utilisation de make\n",
    "\n",
    "- Rendez-vous dans le dossier `student_exercise` avec le terminal \n",
    "- Entrez la commande: `make test`"
   ]
  }
 ],
 "metadata": {
  "celltoolbar": "Slideshow",
  "kernelspec": {
   "display_name": "Python 3 (ipykernel)",
   "language": "python",
   "name": "python3"
  },
  "language_info": {
   "codemirror_mode": {
    "name": "ipython",
    "version": 3
   },
   "file_extension": ".py",
   "mimetype": "text/x-python",
   "name": "python",
   "nbconvert_exporter": "python",
   "pygments_lexer": "ipython3",
   "version": "3.10.13"
  }
 },
 "nbformat": 4,
 "nbformat_minor": 5
}

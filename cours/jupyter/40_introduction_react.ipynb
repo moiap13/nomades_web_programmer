{
 "cells": [
  {
   "cell_type": "markdown",
   "id": "83e01e82",
   "metadata": {
    "slideshow": {
     "slide_type": "slide"
    }
   },
   "source": [
    "# Intoduction a React\n",
    "\n",
    "## WebProgrammer \n",
    "## Week 4: React\n",
    "\n",
    "### Antonio Pisanello - Nomades"
   ]
  },
  {
   "cell_type": "markdown",
   "id": "9d99275e",
   "metadata": {
    "slideshow": {
     "slide_type": "slide"
    }
   },
   "source": [
    "# React\n",
    "\n",
    "<img src=\"./imgs/react_logo.png\" alt=\"alt text\" style=\"width:100px; position: absolute; top: 0; right: 0;\">\n",
    "\n",
    "React est une bibliothèque JavaScript pour la construction d'interfaces utilisateur. Elle est maintenue par Facebook et une communauté de développeurs individuels et d'entreprises. React peut être utilisé comme base dans le développement d'applications monopage ou mobiles, car il est optimal pour récupérer des données qui changent rapidement et doivent être enregistrées."
   ]
  },
  {
   "cell_type": "markdown",
   "id": "03c835b7",
   "metadata": {},
   "source": [
    "# Bibliothèque (Library)\n",
    "\n",
    "- Une librairie est là pour résoudre un rpoblème.\n",
    "- Les librairies nous aident à résoudre des problèmes.\n",
    "- Tout ce qu'on peut faire avec une librairie, on peut le faire sans."
   ]
  },
  {
   "cell_type": "markdown",
   "id": "99e8f5fa",
   "metadata": {},
   "source": [
    "# Pourquoi React?\n",
    "## TO-DO List\n",
    "```javascript\n",
    "class TodoList {\n",
    "  todos = [];\n",
    "  container = null;\n",
    "\n",
    "  constructor(container) {\n",
    "    this.container = container;\n",
    "  }\n",
    "\n",
    "  addTodo(todo) {\n",
    "    // ...\n",
    "  }\n",
    "\n",
    "  removeTodo(todo) {\n",
    "    // ...\n",
    "  }\n",
    "\n",
    "  editTodo(todo, newTodo) {\n",
    "    // ...\n",
    "  }\n",
    "\n",
    "  markAsDone(todo) {\n",
    "    // ...\n",
    "  }\n",
    "}\n",
    "```"
   ]
  },
  {
   "cell_type": "markdown",
   "id": "f0f9071e",
   "metadata": {
    "slideshow": {
     "slide_type": "slide"
    }
   },
   "source": [
    "# Pourquoi React?\n",
    "## TO-DO List\n",
    "- Ajout de LI\n",
    "- Suppression de LI\n",
    "- Changement de l'état du LI\n",
    "- (filtre)\n",
    "\n",
    "Bref synchroniser le dom avec la logique n'est pas toujours évident."
   ]
  },
  {
   "cell_type": "markdown",
   "id": "5d916036",
   "metadata": {
    "slideshow": {
     "slide_type": "slide"
    }
   },
   "source": [
    "# Pourquoi REACT?\n",
    "\n",
    "```jsx\n",
    "function TodoList () {\n",
    "  // State\n",
    "  const [todos, setTodos] = useState([]);\n",
    "  // Mutations\n",
    "  const addItem = name => setTodos([...todos, name]);\n",
    "  const removeItem = index => setTodos(todos.filter((_, i) => i !== index));\n",
    "\n",
    "  // Render view\n",
    "  return <div>\n",
    "    <h1>Todo List</h1>\n",
    "    <ul>\n",
    "      {todos.map((todo, index) => <li key={index}>{todo} <button onClick={() => removeItem(index)>X</button></li>)}\n",
    "    </ul>\n",
    "  </div>\n",
    "}\n",
    "```"
   ]
  },
  {
   "cell_type": "markdown",
   "id": "7bea0b00",
   "metadata": {
    "slideshow": {
     "slide_type": "slide"
    }
   },
   "source": [
    "# Pourquoi REACT?\n",
    "\n",
    "- Sépare état (logique) et vue (dom)\n",
    "- Réutilisation de composants\n",
    "- Se charge de la synchronisation entre le dom et la logique, quand la logique change, le dom est mis a jour par React "
   ]
  },
  {
   "cell_type": "markdown",
   "id": "55b7c972",
   "metadata": {
    "slideshow": {
     "slide_type": "slide"
    }
   },
   "source": [
    "<img src=\"./imgs/react_vs_world.png\" alt=\"alt text\" style=\"margin: auto; width: 85%;\">"
   ]
  },
  {
   "cell_type": "markdown",
   "id": "afb844b2",
   "metadata": {
    "slideshow": {
     "slide_type": "slide"
    }
   },
   "source": [
    "# Pourquoi REACT ?\n",
    "\n",
    "- simple à apprendre\n",
    "- Ecosysteme riche (librairies externes[animations, routing, forms, React Native, React Motion, etc])\n",
    "- JSX"
   ]
  },
  {
   "cell_type": "markdown",
   "id": "f094880b",
   "metadata": {
    "slideshow": {
     "slide_type": "slide"
    }
   },
   "source": [
    "# REACT en bref\n",
    "\n",
    "Reactjs est une bibliothèque JavaScript libre développée par Facebook depuis 2013. Le but principal de cette bibliothèque est de faciliter la création d'application web monopage, via la création de composants dépendant d'un état et générant une page (ou portion) HTML à chaque changement d'état."
   ]
  },
  {
   "cell_type": "markdown",
   "id": "439c93e1",
   "metadata": {
    "slideshow": {
     "slide_type": "slide"
    }
   },
   "source": [
    "# REACT en bref\n",
    "\n",
    "- Netflix, \n",
    "- Yahoo mail, \n",
    "- Facebook, \n",
    "- WhatsApp,\n",
    "- Instagram, \n",
    "- Airbnb, \n",
    "- Sony,\n",
    "- Vous bientôt :)"
   ]
  }
 ],
 "metadata": {
  "celltoolbar": "Slideshow",
  "kernelspec": {
   "display_name": "Python 3 (ipykernel)",
   "language": "python",
   "name": "python3"
  },
  "language_info": {
   "codemirror_mode": {
    "name": "ipython",
    "version": 3
   },
   "file_extension": ".py",
   "mimetype": "text/x-python",
   "name": "python",
   "nbconvert_exporter": "python",
   "pygments_lexer": "ipython3",
   "version": "3.10.13"
  }
 },
 "nbformat": 4,
 "nbformat_minor": 5
}

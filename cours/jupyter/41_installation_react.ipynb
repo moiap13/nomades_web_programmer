{
 "cells": [
  {
   "cell_type": "markdown",
   "id": "83e01e82",
   "metadata": {
    "slideshow": {
     "slide_type": "slide"
    }
   },
   "source": [
    "# Installation de REACT\n",
    "\n",
    "## WebProgrammer \n",
    "## Week 4: React\n",
    "\n",
    "### Antonio Pisanello - Nomades"
   ]
  },
  {
   "cell_type": "markdown",
   "id": "9d99275e",
   "metadata": {
    "slideshow": {
     "slide_type": "slide"
    }
   },
   "source": [
    "# Version web"
   ]
  },
  {
   "cell_type": "markdown",
   "id": "03c835b7",
   "metadata": {
    "slideshow": {
     "slide_type": "slide"
    }
   },
   "source": [
    "# Version local (ce que je vais utiliser)\n",
    "- Installation de nodejs\n",
    "- Installation de vite\n",
    "\n",
    "Dans le terminal du dossier que vous avez créé pour votre projet, tapez la commande suivante:\n",
    "\n",
    "```bash\n",
    "npm create vite@latest ./\n",
    "```"
   ]
  },
  {
   "cell_type": "markdown",
   "id": "99e8f5fa",
   "metadata": {
    "slideshow": {
     "slide_type": "slide"
    }
   },
   "source": [
    "# Bonus - extension browser\n",
    "- installer l'extension `react developer tools`\n",
    "\n",
    "Deux nouveaux onglets sont visibles dans l'inspecteur de chrome:\n",
    "- `Components` pour voir les composants react\n",
    "- `Profiler` pour voir les performances de l'application"
   ]
  }
 ],
 "metadata": {
  "celltoolbar": "Slideshow",
  "kernelspec": {
   "display_name": "Python 3 (ipykernel)",
   "language": "python",
   "name": "python3"
  },
  "language_info": {
   "codemirror_mode": {
    "name": "ipython",
    "version": 3
   },
   "file_extension": ".py",
   "mimetype": "text/x-python",
   "name": "python",
   "nbconvert_exporter": "python",
   "pygments_lexer": "ipython3",
   "version": "3.10.13"
  }
 },
 "nbformat": 4,
 "nbformat_minor": 5
}

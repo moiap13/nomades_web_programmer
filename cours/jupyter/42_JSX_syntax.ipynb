{
 "cells": [
  {
   "cell_type": "markdown",
   "id": "83e01e82",
   "metadata": {
    "slideshow": {
     "slide_type": "slide"
    }
   },
   "source": [
    "# Syntaxe JSX et composants\n",
    "\n",
    "## WebProgrammer \n",
    "## Week 4: React\n",
    "\n",
    "### Antonio Pisanello - Nomades"
   ]
  },
  {
   "cell_type": "markdown",
   "id": "9d99275e",
   "metadata": {
    "slideshow": {
     "slide_type": "slide"
    }
   },
   "source": [
    "# JSX\n",
    "\n",
    "Le JSX est une extension de la syntaxe JavaScript qui permet d'écrire du HTML dans du JavaScript. Il est souvent utilisé avec React pour décrire ce à quoi devrait ressembler l'interface utilisateur."
   ]
  },
  {
   "cell_type": "markdown",
   "id": "22175b0b",
   "metadata": {},
   "source": [
    "# JSX\n",
    "\n",
    "```jsx\n",
    "function App() {\n",
    "  return <h1>Hello World!</h1>\n",
    "}\n",
    "\n",
    "export default App\n",
    "```"
   ]
  },
  {
   "cell_type": "markdown",
   "id": "9b60779e",
   "metadata": {},
   "source": [
    "# JSX\n",
    "\n",
    "Le `jsx` fonctionne comme de l'html:\n",
    "\n",
    "```jsx\n",
    "function App() {\n",
    "  return <h1 id=\"title\">Hello World!</h1>\n",
    "}\n",
    "\n",
    "export default App\n",
    "```"
   ]
  },
  {
   "cell_type": "markdown",
   "id": "17e68a8a",
   "metadata": {},
   "source": [
    "# JSX\n",
    "\n",
    "Le `jsx` fonctionne comme de l'html, sauf:\n",
    "- `class` devient `className`\n",
    "- `for` devient `htmlFor`\n",
    "\n",
    "```jsx\n",
    "function App() {\n",
    "  return <label htmlFor=\"name\" className=\"strong\">Name:</label>\n",
    "}\n",
    "```"
   ]
  },
  {
   "cell_type": "markdown",
   "id": "2e649db9",
   "metadata": {},
   "source": [
    "# JSX\n",
    "\n",
    "Le `jsx` fonctionne comme de l'html, sauf:\n",
    "- les attributs composés sont en camelCase\n",
    "\n",
    "```jsx\n",
    "function App() {\n",
    "  return <input type=\"text\" autoFocus />\n",
    "}\n",
    "```"
   ]
  },
  {
   "cell_type": "markdown",
   "id": "c3a09e9d",
   "metadata": {},
   "source": [
    "# JSX\n",
    "\n",
    "Le `jsx` fonctionne comme de l'html, sauf:\n",
    "- les attributs composés sont en camelCase, sauf:\n",
    "  - les attributs qui commencent par `aria`\n",
    "  - ls attributs `data-*`\n",
    "\n",
    "```jsx\n",
    "function App() {\n",
    "  return <input type=\"text\" aria-label=\"Name\" data-id=\"name\" />\n",
    "}\n",
    "```"
   ]
  },
  {
   "cell_type": "markdown",
   "id": "03c835b7",
   "metadata": {},
   "source": [
    "# REACT node\n",
    "\n",
    "```javascript\n",
    "jsxDEV(\"h1\", { children: \"Hello World!\" }, void 0, false, {\n",
    "    fileName: \"/Users/antonio/Documents/Depannit/Nomades/2024/tmp/nomades_web_programmer/example/react/src/App.jsx\",\n",
    "    lineNumber: 2,\n",
    "    columnNumber: 10\n",
    "  }, this);\n",
    " ```"
   ]
  },
  {
   "cell_type": "markdown",
   "id": "99e8f5fa",
   "metadata": {},
   "source": [
    "# JSX\n",
    "\n",
    "Le `jsx` accepte uniquement un seul éléement `racine (root)`\n",
    "\n",
    "```jsx\n",
    "function App() {\n",
    "  return <h1>Hello World!</h1><div>...</div>\n",
    "}\n",
    "\n",
    "export default App\n",
    "```\n",
    "\n",
    "**Erreur de syntaxe**"
   ]
  },
  {
   "cell_type": "markdown",
   "id": "63060ff3",
   "metadata": {
    "slideshow": {
     "slide_type": "slide"
    }
   },
   "source": [
    "# JSX\n",
    "\n",
    "Le `jsx` accepte uniquement un seul éléement `racine (root)`\n",
    "\n",
    "```jsx\n",
    "function App() {\n",
    "  return <div>\n",
    "      <h1>Hello World!</h1>\n",
    "      <p>Lorem ipsum...</p>\n",
    "      <img src=\"...\" alt=\"...\" />\n",
    "    </div>\n",
    "}\n",
    "\n",
    "export default App\n",
    "```\n",
    "\n",
    "**Pas d'erreur de syntaxe**"
   ]
  },
  {
   "cell_type": "markdown",
   "id": "4711c1e2",
   "metadata": {},
   "source": [
    "# JSX\n",
    "## Fragments\n",
    "\n",
    "Les fragments permettent de retourner plusieurs éléments sans avoir à les encapsuler dans un élément `div`\n",
    "\n",
    "```jsx\n",
    "import {Fragment} from 'react'\n",
    "\n",
    "function App() {\n",
    "  return <Fragment>\n",
    "      <h1>Hello World!</h1>\n",
    "      <p>Lorem ipsum...</p>\n",
    "      <img src=\"...\" alt=\"...\" />\n",
    "    </Fragment>\n",
    "}\n",
    "\n",
    "export default App\n",
    "```"
   ]
  },
  {
   "cell_type": "markdown",
   "id": "85042ddc",
   "metadata": {},
   "source": [
    "# JSX\n",
    "## Fragments\n",
    "\n",
    "Les fragments permettent de retourner plusieurs éléments sans avoir à les encapsuler dans un élément `div`\n",
    "\n",
    "```jsx\n",
    "function App() {\n",
    "  return <>\n",
    "      <h1>Hello World!</h1>\n",
    "      <p>Lorem ipsum...</p>\n",
    "      <img src=\"...\" alt=\"...\" />\n",
    "    </>\n",
    "}\n",
    "\n",
    "export default App\n",
    "```"
   ]
  },
  {
   "cell_type": "markdown",
   "id": "b6d8368b",
   "metadata": {},
   "source": [
    "# JSX\n",
    "## Fragments\n",
    "\n",
    "En JSX on est toujours obligé d'avoir un élément racine (root) mais on peut choisir un élément spécial qui ne s'affiche pas dans le DOM. Ainsi on peut avoir l'impression d'utiliserr plusieurs éléments racines."
   ]
  },
  {
   "cell_type": "markdown",
   "id": "276c1dd6",
   "metadata": {},
   "source": [
    "# JSX\n",
    "## Balises / Tags\n",
    "\n",
    "En `JSX` toutes les balises doivent être necéssairement fermées. Ceci est different de `HTML 5` où certaines balises peuvent être auto-fermantes.\n",
    "\n",
    "```jsx\n",
    "function App() {\n",
    "  return <input type=\"text\"> \n",
    "}\n",
    "```\n",
    "\n",
    "**Erreur de syntaxe**, Ok en `HTML 5`"
   ]
  },
  {
   "cell_type": "markdown",
   "id": "29776c67",
   "metadata": {},
   "source": [
    "# JSX\n",
    "## Balises / Tags\n",
    "\n",
    "En `JSX` toutes les balises doivent être necéssairement fermées. Ceci est different de `HTML` où certaines balises peuvent être auto-fermantes.\n",
    "\n",
    "```jsx\n",
    "function App() {\n",
    "  return <input type=\"text\"></input> \n",
    "}\n",
    "```\n",
    "\n",
    "**Pas d'erreur de syntaxe**, Ok en `JSX`"
   ]
  },
  {
   "cell_type": "markdown",
   "id": "03421e50",
   "metadata": {},
   "source": [
    "# JSX\n",
    "## Balises / Tags\n",
    "\n",
    "En `JSX` toutes les balises doivent être necéssairement fermées. On peut très bien fermé les balise avec la notation auto-fermante de `HTML`\n",
    "```jsx\n",
    "function App() {\n",
    "  return <input type=\"text\" />\n",
    "}\n",
    "```\n",
    "\n",
    "**Pas d'erreur de syntaxe**, Ok en `JSX`"
   ]
  },
  {
   "cell_type": "markdown",
   "id": "13e03714",
   "metadata": {},
   "source": [
    "# JSX\n",
    "## Interpolation\n",
    "\n",
    "En `JSX` on peut utiliser des expressions `JavaScript` en utilisant les accolades `{}`\n",
    "\n",
    "```jsx\n",
    "const title = \"Hello world!\"\n",
    "\n",
    "function App() {\n",
    "  return <>\n",
    "      <h className=\"title\">{title}</h1>\n",
    "      <p>Lorem ipsum...</p>\n",
    "      <img src=\"...\" alt=\"...\" />\n",
    "    </>\n",
    "}\n",
    "\n",
    "export default App\n",
    "```"
   ]
  },
  {
   "cell_type": "markdown",
   "id": "2127b4d9",
   "metadata": {},
   "source": [
    "# JSX\n",
    "## Interpolation\n",
    "\n",
    "En `JSX` on peut utiliser des expressions `JavaScript` en utilisant les accolades `{}`\n",
    "\n",
    "```jsx\n",
    "const title = \"Hello world!\"\n",
    "\n",
    "function App() {\n",
    "  return <>\n",
    "      <h className={title}>{title}</h1>\n",
    "      <p>Lorem ipsum...</p>\n",
    "      <img src=\"...\" alt=\"...\" />\n",
    "    </>\n",
    "}\n",
    "\n",
    "export default App\n",
    "```"
   ]
  },
  {
   "cell_type": "markdown",
   "id": "b675c152",
   "metadata": {},
   "source": [
    "# JSX\n",
    "## Interpolation\n",
    "\n",
    "En `JSX` cl'interpolation est automatiquement échapée pour éviter les attaques XSS.\n",
    "\n",
    "```jsx\n",
    "const title = \"<strong>Hello world!</strong>\"\n",
    "\n",
    "function App() {\n",
    "  return <>\n",
    "      <h className=\"title\">{title}</h1>\n",
    "      <p>Lorem ipsum...</p>\n",
    "      <img src=\"...\" alt=\"...\" />\n",
    "    </>\n",
    "}\n",
    "\n",
    "export default App\n",
    "```"
   ]
  },
  {
   "cell_type": "markdown",
   "id": "414e22af",
   "metadata": {},
   "source": [
    "# JSX\n",
    "## Interpolation\n",
    "\n",
    "En `JSX` cl'interpolation est automatiquement échapée pour éviter les attaques XSS. Si on veut afficher du `HTML` brut, on peut utiliser la méthode `dangerouslySetInnerHTML`\n",
    "\n",
    "```jsx\n",
    "const title = \"<strong>Hello world!</strong>\"\n",
    "\n",
    "function App() {\n",
    "  return <>\n",
    "      <h className=\"title\" dangerouslySetInnerHTML={{__html: title}} ></h1>\n",
    "      <p>Lorem ipsum...</p>\n",
    "      <img src=\"...\" alt=\"...\" />\n",
    "    </>\n",
    "}\n",
    "\n",
    "export default App\n",
    "```\n",
    "\n",
    "**/!\\ Déconseiilé, ce pourquoi l'écriture est affreuse**"
   ]
  },
  {
   "cell_type": "markdown",
   "id": "dbf29b20",
   "metadata": {},
   "source": [
    "# JSX\n",
    "## Interpolation\n",
    "\n",
    "A l'intérieur des accolades `{}` (interpolation) on peut retourner n'importe quoi qui consistue un `React Node`:\n",
    "\n",
    "- `string`\n",
    "- `number`\n",
    "- `boolean`\n",
    "- `null`\n",
    "- `undefined`\n",
    "- `React Node`\n",
    "\n",
    "**/!\\ on ne peut pas mettre d'objet `{}`, ceci ne constitue pas un enfant react valide**"
   ]
  },
  {
   "cell_type": "markdown",
   "id": "cc33a659",
   "metadata": {},
   "source": [
    "# JSX\n",
    "## Tags Style\n",
    "\n",
    "Le `jsx` fonctionne comme de l'html, sauf:\n",
    "- les attributs `style` sont des objets\n",
    "\n",
    "```jsx\n",
    "function App() {\n",
    "  return <h1 style=\"color: red; fontSize: 20px\">Hello World!</h1>\n",
    "}\n",
    "```\n",
    "\n",
    "**Erreur de syntaxe**"
   ]
  },
  {
   "cell_type": "markdown",
   "id": "d019ada9",
   "metadata": {},
   "source": [
    "# JSX\n",
    "## Tags Style\n",
    "\n",
    "Le `jsx` fonctionne comme de l'html, sauf:\n",
    "- les attributs `style` sont des objets\n",
    "\n",
    "```jsx\n",
    "function App() {\n",
    "  return <h1 style={{color: 'red', fontSize: '20px'}}>Hello World!</h1>\n",
    "}\n",
    "```"
   ]
  },
  {
   "cell_type": "markdown",
   "id": "7430248e",
   "metadata": {},
   "source": [
    "# JSX\n",
    "## Tags Style\n",
    "\n",
    "Le `jsx` fonctionne comme de l'html, sauf:\n",
    "- les attributs `style` sont des objets\n",
    "\n",
    "```jsx\n",
    "const style = {\n",
    "  color: 'red',\n",
    "  fontSize: '20px'\n",
    "}\n",
    "\n",
    "function App() {\n",
    "  return <h1 style={style}>Hello World!</h1>\n",
    "}\n",
    "```"
   ]
  },
  {
   "cell_type": "markdown",
   "id": "df06fedc",
   "metadata": {},
   "source": [
    "# JSX\n",
    "## Events\n",
    "\n",
    "Le `jsx` fonctionne comme de l'html, sauf:\n",
    "- les attributs `style` sont des objets\n",
    "\n",
    "```jsx\n",
    "const handleClick = () => {\n",
    "  alert('clicked')\n",
    "}\n",
    "\n",
    "function App() {\n",
    "  return <h1 style={style} onClick=\"{handleClick}\">Hello World!</h1>\n",
    "}\n",
    "```"
   ]
  },
  {
   "cell_type": "markdown",
   "id": "11fbc3d5",
   "metadata": {},
   "source": [
    "# JSX\n",
    "## Events\n",
    "`SynthetiqueBaseEvent`\n",
    "\n",
    "```jsx\n",
    "const handleClick = (e) => {\n",
    "  console.log(e)\n",
    "  alert('clicked')\n",
    "}\n",
    "\n",
    "function App() {\n",
    "  return <h1 style={style} onClick=\"{handleClick}\">Hello World!</h1>\n",
    "}\n",
    "```\n",
    "\n",
    "React va venir surcharger tous les évenements `HTML` par des événements propres a `React`. On va toujours utiliser le même objet `SynthetiqueBaseEvent` pour tous les événements, peut importe l'événement natif (usefull for react native)."
   ]
  },
  {
   "cell_type": "markdown",
   "id": "09cafa1b",
   "metadata": {},
   "source": [
    "# JSX\n",
    "## Events\n",
    "On peut quand même utiliser l'objet `SynthetiqueBaseEvent` comme un évenement natif.\n",
    "\n",
    "```jsx\n",
    "const handleClick = (e) => {\n",
    "  console.log(e)\n",
    "  e.preventDefault()\n",
    "  e.stopPropagation()\n",
    "  e.target\n",
    "  alert('clicked')\n",
    "}\n",
    "\n",
    "function App() {\n",
    "  return <h1 style={style} onClick=\"{handleClick}\">Hello World!</h1>\n",
    "}\n",
    "```\n",
    "\n",
    "**la clé `nativeEvent` nous donne accès a l'événement natif `HTML`**"
   ]
  },
  {
   "cell_type": "markdown",
   "id": "9932b196",
   "metadata": {},
   "source": [
    "# JSX\n",
    "## Events\n",
    "`onClick != onClick`. Il est vrai qu'il faut pas utiliser les **attributs** *onClick* au sein même de la balise, mais plutôt la fonction `addEventListener` pour les événements.\n",
    "\n",
    "Cepeandant ici, en `HTML` nous ne verros pas l'attribut `onClick` sur la balise, `React` va le brancher en utilisant `addEventListener` pour nous."
   ]
  },
  {
   "cell_type": "markdown",
   "id": "26609b95",
   "metadata": {},
   "source": [
    "# JSX\n",
    "## Events\n",
    "### Functions on the fly\n",
    "\n",
    "```jsx\n",
    "function App() {\n",
    "  return <h1 style={style} onClick=\"{(e) => {\n",
    "    console.log(e)\n",
    "    e.preventDefault()\n",
    "    e.stopPropagation()\n",
    "    e.target\n",
    "    alert('clicked')\n",
    "  }}\">Hello World!</h1>\n",
    "}\n",
    "```\n",
    "**Personnellement je vous déconseile, moins clair, vaut mieu séparer la fonction de l'appel de fonction**"
   ]
  },
  {
   "cell_type": "markdown",
   "id": "6199b5f1",
   "metadata": {},
   "source": [
    "# JSX\n",
    "## Conditional Rendering\n",
    "\n",
    "```jsx\n",
    "const title = \"Hello world!\"\n",
    "const style = { color: 'red', fontSize: '20px' }\n",
    "const showTitle = true\n",
    "function App() {\n",
    "  return {showTitle && <h1 style={style}>Hello World!</h1>}\n",
    "}\n",
    "\n",
    "export default App\n",
    "```\n",
    "\n",
    "Si `showTitle` est faux, rien ne sera rendu. Car `false` est un `React Node` valide, qui sera interprété comme `null` par `React`, qui est aussi un `React Node` valide."
   ]
  },
  {
   "cell_type": "markdown",
   "id": "86321c56",
   "metadata": {},
   "source": [
    "# JSX\n",
    "## Conditional Rendering\n",
    "### Ternary Operator <3\n",
    "\n",
    "```jsx\n",
    "const title = \"Hello world!\"\n",
    "const style = { color: 'red', fontSize: '20px' }\n",
    "const showTitle = true\n",
    "function App() {\n",
    "  return {\n",
    "    showTitle ? \n",
    "    <h1 style={style}>Hello World!</h1> : \n",
    "    <p>...</p>\n",
    "  }\n",
    "}\n",
    "\n",
    "export default App\n",
    "```\n",
    "\n",
    "Si `showTitle` est vrai alors on affichera le `<h1>` sinon on verra le `<p>`."
   ]
  },
  {
   "cell_type": "markdown",
   "id": "70b7eafc",
   "metadata": {},
   "source": [
    "# JSX\n",
    "## lists\n",
    "\n",
    "```jsx\n",
    "const title = \"Hello world!\"\n",
    "const style = { color: 'red', fontSize: '20px' }\n",
    "const showTitle = true\n",
    "const todos = ['learn react', 'use JSX', 'Create a component', 'Build an app']\n",
    "function App() {\n",
    "  return <>\n",
    "    {\n",
    "      showTitle ? \n",
    "      <h1 style={style}>Hello World!</h1> : \n",
    "      <p>...</p>\n",
    "    }\n",
    "    <ul>\n",
    "      {todos.map((todo, index) => <li key={index}>{todo}</li>)}\n",
    "    </ul>\n",
    "  </>\n",
    "}\n",
    "\n",
    "export default App\n",
    "```\n",
    "\n",
    "**/!\\ chaques éléments doivent avoir un clé unique**"
   ]
  },
  {
   "cell_type": "markdown",
   "id": "86301e9c",
   "metadata": {},
   "source": [
    "# JSX\n",
    "## lists\n",
    "### Keys\n",
    "\n",
    "Les clés `keys` sont utilisées par `React` pour identifier les éléments de la liste. Elles doivent être uniques et stables.\n",
    "\n",
    "Elles sont utilisées pour optimiser le rendu des listes. `React` va comparer les clés pour savoir si un élément a été ajouté, supprimé ou modifié.\n",
    "\n",
    "Par example si les `li` sont déplacés (sort), grâce a la clé `React` va savoir que c'est le même élément qui a été déplacé, et du coup au lieu de recréer un nouvel élément, il va juste le déplacer."
   ]
  },
  {
   "cell_type": "markdown",
   "id": "afb7e8b0",
   "metadata": {},
   "source": [
    "# JSX\n",
    "## Components\n",
    "\n",
    "```jsx\n",
    "const title = \"Hello world!\"\n",
    "const style = { color: 'red', fontSize: '20px' }\n",
    "const showTitle = true\n",
    "const todos = ['learn react', 'use JSX', 'Create a component', 'Build an app']\n",
    "function App() {\n",
    "  return <>\n",
    "    <Title />\n",
    "    <ul>\n",
    "      {todos.map((todo, index) => <li key={index}>{todo}</li>)}\n",
    "    </ul>\n",
    "  </>\n",
    "}\n",
    "\n",
    "function Title() {\n",
    "  const title = \"Hello world!\"\n",
    "  return <h1>{title}</h1>\n",
    "}\n",
    "export default App\n",
    "```\n",
    "\n",
    "**/!\\ chaques éléments doivent avoir un clé unique**"
   ]
  },
  {
   "cell_type": "markdown",
   "id": "9a7a477e",
   "metadata": {},
   "source": [
    "# JSX\n",
    "## Components\n",
    "### props\n",
    "\n",
    "```jsx\n",
    "const todos = ['learn react', 'use JSX', 'Create a component', 'Build an app']\n",
    "function App() {\n",
    "  return <>\n",
    "    <Title color=\"red\"/>\n",
    "    <ul>\n",
    "      {todos.map((todo, index) => <li key={index}>{todo}</li>)}\n",
    "    </ul>\n",
    "  </>\n",
    "}\n",
    "\n",
    "function Title(props) {\n",
    "  console.log(props)\n",
    "  const title = \"Hello world!\"\n",
    "  return <h1>{title}</h1>\n",
    "}\n",
    "export default App\n",
    "```"
   ]
  },
  {
   "cell_type": "markdown",
   "id": "efbf3022",
   "metadata": {},
   "source": [
    "# JSX\n",
    "## Components\n",
    "### props\n",
    "\n",
    "```jsx\n",
    "const todos = ['learn react', 'use JSX', 'Create a component', 'Build an app']\n",
    "function App() {\n",
    "  return <>\n",
    "    <Title color=\"red\"/>\n",
    "    <ul>\n",
    "      {todos.map((todo, index) => <li key={index}>{todo}</li>)}\n",
    "    </ul>\n",
    "  </>\n",
    "}\n",
    "\n",
    "function Title({color}) {\n",
    "  const title = \"Hello world!\"\n",
    "  return <h1 style={{color: color}}>{title}</h1>\n",
    "}\n",
    "\n",
    "export default App\n",
    "```"
   ]
  },
  {
   "cell_type": "markdown",
   "id": "59aa185f",
   "metadata": {},
   "source": [
    "# JSX\n",
    "## Components\n",
    "### props - children\n",
    "\n",
    "```jsx\n",
    "const todos = ['learn react', 'use JSX', 'Create a component', 'Build an app']\n",
    "function App() {\n",
    "  return <>\n",
    "    <Title color=\"red\">World Hello!</Title>\n",
    "    <ul>\n",
    "      {todos.map((todo, index) => <li key={index}>{todo}</li>)}\n",
    "    </ul>\n",
    "  </>\n",
    "}\n",
    "\n",
    "function Title({color, children}) {\n",
    "  const title = \"Hello world!\"\n",
    "  return <h1 style={{color: color}}>{children}</h1>\n",
    "}\n",
    "\n",
    "export default App\n",
    "```"
   ]
  },
  {
   "cell_type": "markdown",
   "id": "bc07ef53",
   "metadata": {},
   "source": [
    "**Le nom des composants custom s'écrit en `PascalCase`**"
   ]
  },
  {
   "cell_type": "markdown",
   "id": "9811f58b",
   "metadata": {},
   "source": [
    "# JSX\n",
    "## Components\n",
    "### props - children\n",
    "\n",
    "```jsx\n",
    "const todos = ['learn react', 'use JSX', 'Create a component', 'Build an app']\n",
    "function App() {\n",
    "  return <>\n",
    "    <Title color=\"red\" hidden>World Hello!</Title>\n",
    "    <ul>\n",
    "      {todos.map((todo, index) => <li key={index}>{todo}</li>)}\n",
    "    </ul>\n",
    "  </>\n",
    "}\n",
    "\n",
    "function Title({color, children, hidden}) {\n",
    "  console.log(hidden) // true if given, undifined otw\n",
    "  return <h1 style={{color: color}}>{children}</h1>\n",
    "}\n",
    "\n",
    "export default App\n",
    "```"
   ]
  },
  {
   "cell_type": "markdown",
   "id": "6f108701",
   "metadata": {},
   "source": [
    "# JSX\n",
    "## Components\n",
    "### props - children\n",
    "\n",
    "```jsx\n",
    "const todos = ['learn react', 'use JSX', 'Create a component', 'Build an app']\n",
    "function App() {\n",
    "  return <>\n",
    "    <Title color=\"red\" hidden>World Hello!</Title>\n",
    "    <ul>\n",
    "      {todos.map((todo, index) => <li key={index}>{todo}</li>)}\n",
    "    </ul>\n",
    "  </>\n",
    "}\n",
    "\n",
    "function Title({color, children, hidden}) {\n",
    "  if(hidden) return null\n",
    "\n",
    "  return <h1 style={{color: color}}>{children}</h1>\n",
    "}\n",
    "\n",
    "export default App\n",
    "```\n",
    "\n",
    "**`null` est un `React Node` donc je peux le retourner, dans ce cas le titre ne sera pas afficher**"
   ]
  },
  {
   "cell_type": "markdown",
   "id": "c9d65fb5",
   "metadata": {},
   "source": [
    "# JSX\n",
    "## Components\n",
    "### props - spread operator\n",
    "\n",
    "```jsx\n",
    "const todos = ['learn react', 'use JSX', 'Create a component', 'Build an app']\n",
    "function App() {\n",
    "  return <>\n",
    "    <Title color=\"red\" hidden>World Hello!</Title>\n",
    "    <ul>\n",
    "      {todos.map((todo, index) => <li key={index}>{todo}</li>)}\n",
    "    </ul>\n",
    "  </>\n",
    "}\n",
    "\n",
    "function Title({color, children, hidden}) {\n",
    "  if(hidden) return null\n",
    "\n",
    "  const props = {\n",
    "    id: 'titleId',\n",
    "    className: 'titleClass'\n",
    "  }\n",
    "\n",
    "  return <h1 style={{color: color}} {...props}>{children}</h1>\n",
    "}\n",
    "\n",
    "export default App\n",
    "```\n",
    "\n",
    "Je peux utiliser le spread operator `...` pour passer plusieurs attributs (`props`) directement a l'élément `h1`"
   ]
  },
  {
   "cell_type": "markdown",
   "id": "2c641420",
   "metadata": {},
   "source": [
    "# JSX\n",
    "## Components\n",
    "### props - spread operator\n",
    "\n",
    "```jsx\n",
    "const todos = ['learn react', 'use JSX', 'Create a component', 'Build an app']\n",
    "function App() {\n",
    "  return <>\n",
    "    <Title color=\"red\" id=\"titleId\" className=\"titleClass\" data-title=\"World Hello!\">World Hello!</Title>\n",
    "    <ul>\n",
    "      {todos.map((todo, index) => <li key={index}>{todo}</li>)}\n",
    "    </ul>\n",
    "  </>\n",
    "}\n",
    "\n",
    "function Title({color, children, hidden, ...props}) {\n",
    "  if(hidden) return null\n",
    "\n",
    "  return <h1 style={{color: color}} {...props}>{children}</h1>\n",
    "}\n",
    "\n",
    "export default App\n",
    "```\n",
    "\n",
    "Je peux utiliser le spread operator `...` pour passer plusieurs attributs (`props`) deepuis le parent directement à l'enfant."
   ]
  },
  {
   "cell_type": "markdown",
   "id": "2e047d7d",
   "metadata": {},
   "source": [
    "# TP\n",
    "\n",
    "1. En utilisant l'example des composants ci-dessus, faites en sorte que le teitre (`<h1>`) affiche le texte du children (le text passé par le composant parent), si le composant parent ne renseigne pas de texte, alors le titre affiche \"Hello World!\" par défaut.\n",
    "\n",
    "2. En utilisant l'example des composants ci-dessus, faites en sorte que le titre (`<h1>`) soit affiché en rouge si le composant parent ne renseigne pas de couleur, alors le titre affiche \"Hello World!\" par défaut.\n",
    "\n",
    "3. En utilisant l'example des composants ci-dessus, faites en sorte de cacher le titre (`<h1>`) si le composant parent renseigne l'attribut `hidden`."
   ]
  },
  {
   "cell_type": "markdown",
   "id": "5dc551dc",
   "metadata": {},
   "source": [
    "# TP - Correction\n",
    "\n",
    "```jsx\n",
    "const todos = ['learn react', 'use JSX', 'Create a component', 'Build an app']\n",
    "function App() {\n",
    "  return <>\n",
    "    <Title color=\"red\" hidden>Coucou</Title>\n",
    "    <ul>\n",
    "      {todos.map((todo, index) => <li key={index}>{todo}</li>)}\n",
    "    </ul>\n",
    "  </>\n",
    "}\n",
    "\n",
    "function Title({color, children, hidden}) {\n",
    "  const title = \"Hello world!\"\n",
    "  \n",
    "  if (hidden) return null\n",
    "  return <h1 style={{color: color}}>{children ? children : title}</h1>\n",
    "}\n",
    "export default App\n",
    "```"
   ]
  },
  {
   "cell_type": "markdown",
   "id": "dbb2b86a",
   "metadata": {},
   "source": [
    "# ReactDom\n",
    "\n",
    "- `ReactDom`, dans `main.jsx` est une librairie utilisée pour brancher nos components a la page `HTML`.\n",
    "- `ReactDom` utilise la màthode `createRoot` ou il récupère l'élément `root` dans le `HTML` (`index.html`) et y branche notre application `React`.\n",
    "- Finalement la fonction `render()` est appelée pour afficher notre application `React` dans le `HTML`.\n",
    "- `<React.StrictMode>` est un composant qui nous permet de détecter les problèmes potentiels dans notre application `React`. Surtout utilisé lors de la phase de developpement."
   ]
  }
 ],
 "metadata": {
  "celltoolbar": "Slideshow",
  "kernelspec": {
   "display_name": "Python 3 (ipykernel)",
   "language": "python",
   "name": "python3"
  },
  "language_info": {
   "codemirror_mode": {
    "name": "ipython",
    "version": 3
   },
   "file_extension": ".py",
   "mimetype": "text/x-python",
   "name": "python",
   "nbconvert_exporter": "python",
   "pygments_lexer": "ipython3",
   "version": "3.10.13"
  }
 },
 "nbformat": 4,
 "nbformat_minor": 5
}

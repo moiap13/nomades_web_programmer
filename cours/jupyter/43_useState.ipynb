{
 "cells": [
  {
   "cell_type": "markdown",
   "id": "83e01e82",
   "metadata": {
    "slideshow": {
     "slide_type": "slide"
    }
   },
   "source": [
    "# The useState hook\n",
    "\n",
    "## WebProgrammer \n",
    "## Week 4: React\n",
    "\n",
    "### Antonio Pisanello - Nomades"
   ]
  },
  {
   "cell_type": "markdown",
   "id": "9d99275e",
   "metadata": {
    "slideshow": {
     "slide_type": "slide"
    }
   },
   "source": [
    "# Hooks\n",
    "\n",
    "Les `Hooks` sont une nouvelle fonctionnalité de React 16.8. Ils vous permettent d'utiliser l'état et d'autres fonctionnalités de React sans écrire une classe."
   ]
  },
  {
   "cell_type": "markdown",
   "id": "22175b0b",
   "metadata": {
    "slideshow": {
     "slide_type": "slide"
    }
   },
   "source": [
    "# Example 1 - Compteur\n",
    "\n",
    "```jsx\n",
    "function App() {\n",
    "  let count = 0;\n",
    "\n",
    "  const increment = () => {\n",
    "    // Some logic\n",
    "  }\n",
    "\n",
    "  return <>\n",
    "    <p>Counter: {count}</p>\n",
    "    <button onClick={increment}>Increment</button>\n",
    "  </>\n",
    "}\n",
    "```"
   ]
  },
  {
   "cell_type": "markdown",
   "id": "9b60779e",
   "metadata": {
    "slideshow": {
     "slide_type": "slide"
    }
   },
   "source": [
    "# Example 1 - Compteur\n",
    "\n",
    "Pour pouvoir incrémente le compteur, nous devons:\n",
    "- Définir un espace mémoire pour contre composant (`App`), cette mémoire est appelée `state`, l'état est utilisé pour représenter les données qui sont associées spécifiquemnt à un composant.\n",
    "- Pour intéragir avec l'état on va utiliser des fonctions que l'on appèle des `hooks`\n",
    "- Les `hooks`, comment toujours par `use` et ne peuvent être utilisé que dans des composants."
   ]
  },
  {
   "cell_type": "markdown",
   "id": "17e68a8a",
   "metadata": {
    "slideshow": {
     "slide_type": "slide"
    }
   },
   "source": [
    "# The `useState` hook\n",
    "\n",
    "Le `useState` est un `hook` qui permet de déclarer une variable d'état dans un composant fonctionnel. La variable est initialisée avec la valeur passée en argument et la fonction qui permet de modifier cette valeur est retournée (setter).\n",
    "\n",
    "```jsx\n",
    "import { useState } from 'react';\n",
    "\n",
    "function App() {\n",
    "  const [count, setCount] = useState(0);\n",
    "\n",
    "  const increment = () => {\n",
    "    // Some logic\n",
    "  }\n",
    "\n",
    "  return <>\n",
    "    <p>Counter: {count}</p>\n",
    "    <button onClick={increment}>Increment</button>\n",
    "  </>\n",
    "}\n",
    "```"
   ]
  },
  {
   "cell_type": "markdown",
   "id": "2e649db9",
   "metadata": {
    "slideshow": {
     "slide_type": "slide"
    }
   },
   "source": [
    "# The `useState` hook\n",
    "\n",
    "```jsx\n",
    "import { useState } from 'react';\n",
    "\n",
    "function App() {\n",
    "  const [count, setCount] = useState(0);\n",
    "\n",
    "  const increment = () => {\n",
    "    setCount(count + 1);\n",
    "  }\n",
    "\n",
    "  return <>\n",
    "    <p>Counter: {count}</p>\n",
    "    <button onClick={increment}>Increment</button>\n",
    "  </>\n",
    "}\n",
    "```"
   ]
  },
  {
   "cell_type": "markdown",
   "id": "c3a09e9d",
   "metadata": {
    "slideshow": {
     "slide_type": "slide"
    }
   },
   "source": [
    "# The `useState` hook\n",
    "\n",
    "```jsx\n",
    "import { useState } from 'react';\n",
    "\n",
    "function App() {\n",
    "  const [count, setCount] = useState(0);\n",
    "\n",
    "  console.log('render');\n",
    "  \n",
    "  const increment = () => {\n",
    "    setCount(count + 1);\n",
    "  }\n",
    "\n",
    "  return <>\n",
    "    <p>Counter: {count}</p>\n",
    "    <button onClick={increment}>Increment</button>\n",
    "  </>\n",
    "}\n",
    "```\n",
    "\n",
    "**`render` s'affiche systématiquement 2x, c'est a cause de `<React.StrictMode>` mais on va assumer qu'il est affiché qu'une seule fois**"
   ]
  },
  {
   "cell_type": "markdown",
   "id": "03c835b7",
   "metadata": {
    "slideshow": {
     "slide_type": "slide"
    }
   },
   "source": [
    "# Pourquoi render est afficher a chaques fois que l'on incrémente le compteur?\n",
    "\n",
    "A chaque fois que l'état d'un composant change, le composant est re-rendu. C'est pour cela que `render` est affiché a chaque fois que l'on incrémente le compteur.\n",
    "\n",
    "Re-rendre le composant signifie que le composant est reconstruit, le code du composant est réexécuté et le DOM est mis à jour.\n",
    "\n",
    "A chaques fois que le `setter` de `useState` est appelé, le composant est re-rendu."
   ]
  },
  {
   "cell_type": "markdown",
   "id": "99e8f5fa",
   "metadata": {
    "slideshow": {
     "slide_type": "slide"
    }
   },
   "source": [
    "# Quizz\n",
    "\n",
    "```jsx\n",
    "import { useState } from 'react';\n",
    "\n",
    "function App() {\n",
    "  const [count, setCount] = useState(0);\n",
    "\n",
    "  console.log('render');\n",
    "  \n",
    "  const increment = () => {\n",
    "    setCount(count + 1);    \n",
    "    setCount(count + 1);\n",
    "    setCount(count + 1);\n",
    "  }\n",
    "\n",
    "  return <>\n",
    "    <p>Counter: {count}</p>\n",
    "    <button onClick={increment}>Increment</button>\n",
    "  </>\n",
    "}\n",
    "```\n",
    "\n",
    "**De combien va être incrémenté `count` ?**"
   ]
  },
  {
   "cell_type": "markdown",
   "id": "63060ff3",
   "metadata": {
    "slideshow": {
     "slide_type": "slide"
    }
   },
   "source": [
    "# Quizz\n",
    "\n",
    "```jsx\n",
    "import { useState } from 'react';\n",
    "\n",
    "function App() {\n",
    "  const [count, setCount] = useState(0);\n",
    "\n",
    "  console.log('render');\n",
    "  \n",
    "  const increment = () => {\n",
    "    setCount(0 + 1);    \n",
    "    setCount(0 + 1);\n",
    "    setCount(0 + 1);\n",
    "  }\n",
    "\n",
    "  return <>\n",
    "    <p>Counter: {count}</p>\n",
    "    <button onClick={increment}>Increment</button>\n",
    "  </>\n",
    "}\n",
    "```\n",
    "\n",
    "**De combien va être incrémenté `count` ?**"
   ]
  },
  {
   "cell_type": "markdown",
   "id": "4711c1e2",
   "metadata": {
    "slideshow": {
     "slide_type": "slide"
    }
   },
   "source": [
    "# Quizz\n",
    "\n",
    "```jsx\n",
    "import { useState } from 'react';\n",
    "\n",
    "function App() {\n",
    "  const [count, setCount] = useState(0);\n",
    "\n",
    "  console.log('render');\n",
    "  \n",
    "  const increment = () => {\n",
    "    setCount((count) => count + 1);\n",
    "    setCount((count) => count + 1);\n",
    "    setCount((count) => count + 1);\n",
    "  }\n",
    "\n",
    "  return <>\n",
    "    <p>Counter: {count}</p>\n",
    "    <button onClick={increment}>Increment</button>\n",
    "  </>\n",
    "}\n",
    "```\n",
    "\n",
    "**De combien va être incrémenté `count` ?**"
   ]
  },
  {
   "cell_type": "markdown",
   "id": "85042ddc",
   "metadata": {
    "slideshow": {
     "slide_type": "slide"
    }
   },
   "source": [
    "# useState and Objects\n",
    "\n",
    "```jsx\n",
    "import { useState } from 'react';\n",
    "\n",
    "function App() {\n",
    "  const [person, setPerson] = useState({\n",
    "    firstName: 'Antonio',\n",
    "    lastName: 'Pisanello'\n",
    "    age: 28\n",
    "  });\n",
    "\n",
    "  console.log('render');\n",
    "  \n",
    "  const increment = () => {\n",
    "    person.age++\n",
    "    setPerson(person);\n",
    "  }\n",
    "\n",
    "  return <>\n",
    "    <p>Age of {person.firstName} is {person.age}</p>\n",
    "    <button onClick={increment}>Increment age</button>\n",
    "  </>\n",
    "}\n",
    "```\n",
    "\n",
    "**Ne fonctionne pas**"
   ]
  },
  {
   "cell_type": "markdown",
   "id": "b7e7b057",
   "metadata": {
    "slideshow": {
     "slide_type": "slide"
    }
   },
   "source": [
    "En effet dans l'example précédent, `setPerson` ne va pas re-rendre le composant car `person` est le même objet que précédemment. Du coup pour `React` il n'y a pas eu de chagement d'état, donc pas de re-rendu.\n",
    "\n",
    "**Ceci s'appelle une mutation de l'état, et c'est une mauvaise pratique !**"
   ]
  },
  {
   "cell_type": "markdown",
   "id": "64295c49",
   "metadata": {
    "slideshow": {
     "slide_type": "slide"
    }
   },
   "source": [
    "# useState and Objects\n",
    "\n",
    "```jsx\n",
    "import { useState } from 'react';\n",
    "\n",
    "function App() {\n",
    "  const [person, setPerson] = useState({\n",
    "    firstName: 'Antonio',\n",
    "    lastName: 'Pisanello'\n",
    "    age: 28\n",
    "  });\n",
    "\n",
    "  console.log('render');\n",
    "  \n",
    "  const increment = () => {\n",
    "    setPerson({...person, age: person.age+1});\n",
    "  }\n",
    "\n",
    "  return <>\n",
    "    <p>Age of {person.firstName} is {person.age}</p>\n",
    "    <button onClick={increment}>Increment age</button>\n",
    "  </>\n",
    "}\n",
    "```"
   ]
  },
  {
   "cell_type": "markdown",
   "id": "b6d8368b",
   "metadata": {
    "slideshow": {
     "slide_type": "slide"
    }
   },
   "source": [
    "# Multiple states\n",
    "\n",
    "```jsx\n",
    "import { useState } from 'react';\n",
    "\n",
    "function App() {\n",
    "  const [person, setPerson] = useState({\n",
    "    firstName: 'Antonio',\n",
    "    lastName: 'Pisanello'\n",
    "    age: 28\n",
    "  });\n",
    "  const [count, setCount] = useState(0);\n",
    "  \n",
    "  const incrementAge = () => {\n",
    "    setPerson({...person, age: person.age+1});\n",
    "  }\n",
    "\n",
    "  const incrementCount = () => {\n",
    "    setCount(count + 1);\n",
    "  }\n",
    "\n",
    "  return <>\n",
    "    <p>Age of {person.firstName} is {person.age}</p>\n",
    "    <button onClick={incrementAge}>Increment age</button>\n",
    "    <p>Counter: {count}</p>\n",
    "    <button onClick={incrementCount}>Increment</button>\n",
    "  </>\n",
    "}\n",
    "```"
   ]
  },
  {
   "cell_type": "markdown",
   "id": "276c1dd6",
   "metadata": {
    "slideshow": {
     "slide_type": "slide"
    }
   },
   "source": [
    "# Hooks, good principles\n",
    "\n",
    "- Quand on rend un nombre de `hooks` dans un composant, il est important de les rendre dans le même ordre à chaque rendu.\n",
    "- Les `hooks` doivent être utilisé au niveau le plus haut possible dans le composant, ne pas les utiliser dans des boucles, des conditions ou des fonctions imbriquées.\n",
    "- Ne pas faire de return avant d'avoir utilisé tous les `hooks` du composant."
   ]
  },
  {
   "cell_type": "markdown",
   "id": "29776c67",
   "metadata": {
    "slideshow": {
     "slide_type": "slide"
    }
   },
   "source": [
    "# Hooks, good principles\n",
    "\n",
    "```jsx\n",
    "import { useState } from 'react';\n",
    "\n",
    "function App() {\n",
    "  const [person, setPerson] = useState({\n",
    "    firstName: 'Antonio',\n",
    "    lastName: 'Pisanello',\n",
    "    age: 28\n",
    "  });\n",
    "  \n",
    "  if (person.age > 30) {\n",
    "    const [count, setCount] = useState(0);\n",
    "  }\n",
    "  \n",
    "  const incrementAge = () => {\n",
    "    setPerson({...person, age: person.age+1});\n",
    "  }\n",
    "\n",
    "  return <>\n",
    "    <p>Age of {person.firstName} is {person.age}</p>\n",
    "    <button onClick={incrementAge}>Increment age</button>\n",
    "  </>\n",
    "}\n",
    "```\n",
    "\n",
    "**Big error**"
   ]
  }
 ],
 "metadata": {
  "celltoolbar": "Slideshow",
  "kernelspec": {
   "display_name": "Python 3 (ipykernel)",
   "language": "python",
   "name": "python3"
  },
  "language_info": {
   "codemirror_mode": {
    "name": "ipython",
    "version": 3
   },
   "file_extension": ".py",
   "mimetype": "text/x-python",
   "name": "python",
   "nbconvert_exporter": "python",
   "pygments_lexer": "ipython3",
   "version": "3.10.13"
  }
 },
 "nbformat": 4,
 "nbformat_minor": 5
}

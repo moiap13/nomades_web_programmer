{
 "cells": [
  {
   "cell_type": "markdown",
   "id": "83e01e82",
   "metadata": {
    "slideshow": {
     "slide_type": "slide"
    }
   },
   "source": [
    "# Data Flux\n",
    "\n",
    "## WebProgrammer \n",
    "## Week 4: React\n",
    "\n",
    "### Antonio Pisanello - Nomades"
   ]
  },
  {
   "cell_type": "markdown",
   "id": "9d99275e",
   "metadata": {
    "slideshow": {
     "slide_type": "slide"
    }
   },
   "source": [
    "# Introduction\n",
    "\n",
    "Les flux de données permettent de passer des infomrations des composants parents aux composants enfants.\n",
    "\n",
    "Nous Avons vu que l'on peut créer et imbriquer différents composants à l'intérieur d'autres composants et cela nous a permits de faire passer de l'informations du `parent` à l'`enfant` en utilisant les `props`."
   ]
  },
  {
   "cell_type": "markdown",
   "id": "22175b0b",
   "metadata": {},
   "source": [
    "# Some example\n",
    "\n",
    "```jsx\n",
    "function App() {\n",
    "  return <form>\n",
    "    <CGUCheckbox checked/>\n",
    "    <input type=\"submit\" value=\"Submit\" />\n",
    "  </form>\n",
    "}\n",
    "\n",
    "function CGUCheckbox ({checked}) {\n",
    "  return <div>\n",
    "    <label>\n",
    "      <input type=\"checkbox\" checked={checked} />\n",
    "      I read and accept the conditions of use\n",
    "    </label>\n",
    "  </div>\n",
    "}\n",
    "\n",
    "export default App;\n",
    "```\n",
    "Flux de données standard de `React`, les `parents` envoient le flux de donné vers les `enfants`."
   ]
  },
  {
   "cell_type": "markdown",
   "id": "d1b48837",
   "metadata": {},
   "source": [
    "# Some example\n",
    "\n",
    "```jsx\n",
    "import { useState } from \"react\";\n",
    "\n",
    "function App() {\n",
    "  const [isTermsAccepted, setIsTermsAccepted] = useState(false);\n",
    "\n",
    "  return <form>\n",
    "    <CGUCheckbox checked={isTermsAccepted}/>\n",
    "    <button type=\"submit\" disabled={!isTermsAccepted}>Send</button>\n",
    "  </form>\n",
    "}\n",
    "\n",
    "function CGUCheckbox ({checked}) {\n",
    "  return <div>\n",
    "    <label>\n",
    "      <input type=\"checkbox\" checked={checked} />\n",
    "      I read and accept the conditions of use\n",
    "    </label>\n",
    "  </div>\n",
    "}\n",
    "\n",
    "export default App;\n",
    "```\n",
    "\n",
    "J'aimerais bien que le `CGUCheckbox` puisse changer l'état de `isTermsAccepted` dans le `App` en cliquant sur le `checkbox`. Thus, que l'`enfant` puisse envoyer des informations au `parent`."
   ]
  },
  {
   "cell_type": "markdown",
   "id": "9b60779e",
   "metadata": {},
   "source": [
    "# La callback\n",
    "\n",
    "```jsx\n",
    "import { useState } from \"react\";\n",
    "\n",
    "function App() {\n",
    "  const [isTermsAccepted, setIsTermsAccepted] = useState(false);\n",
    "\n",
    "  return <form>\n",
    "    <CGUCheckbox checked={isTermsAccepted} onCheck={setIsTermAccepted}/>\n",
    "    <button type=\"submit\" disabled={!isTermsAccepted}>Send</button>\n",
    "  </form>\n",
    "}\n",
    "\n",
    "function CGUCheckbox ({checked, onCheck}) {\n",
    "\n",
    "  return <div>\n",
    "    <label>\n",
    "      <input \n",
    "        type=\"checkbox\" \n",
    "        checked={checked}\n",
    "        onChange={e => onCheck(e.target.checked)}\n",
    "      />\n",
    "      I read and accept the conditions of use\n",
    "    </label>\n",
    "  </div>\n",
    "}\n",
    "\n",
    "export default App;\n",
    "```\n",
    "\n",
    "J'aimerais bien que le `CGUCheckbox` puisse changer l'état de `isTermsAccepted` dans le `App` en cliquant sur le `checkbox`. Thus, que l'`enfant` puisse envoyer des informations au `parent`."
   ]
  },
  {
   "cell_type": "markdown",
   "id": "17e68a8a",
   "metadata": {},
   "source": [
    "# Que se passe-t-il ici ?\n",
    "\n",
    "La magie des `callbacks`"
   ]
  },
  {
   "cell_type": "markdown",
   "id": "2e649db9",
   "metadata": {},
   "source": [
    "# Que se passe-t-il ici ?\n",
    "\n",
    "Le `parent` passe via les `props` a l'`enfant` une `callback` qui permet à l'`enfant` de changer l'état du `parent`. Cette `callback` est simplement la fonction `setter` du state du parent. Ainsi l'`enfant` sait comment changer la valeur de l'état.\n",
    "\n",
    "Ceci s'appelle le `reverse data flow` ou `lifting state up`."
   ]
  },
  {
   "cell_type": "markdown",
   "id": "c3a09e9d",
   "metadata": {},
   "source": [
    "# uncontrolled input\n",
    "\n",
    "```jsx\n",
    "import { useState } from 'react';\n",
    "\n",
    "function App() {\n",
    "\n",
    "  return <form>\n",
    "    <label forHtml=\"myInput\">\n",
    "      Name:\n",
    "      <input type=\"text\" name=\"myInput\" id=\"myInput\"/>\n",
    "    </label>\n",
    "    <input type=\"submit\" value=\"Submit\" />\n",
    "  </form>\n",
    "}\n",
    "export default App\n",
    "```\n",
    "\n",
    "**`render` s'affiche systématiquement 2x, c'est a cause de `<React.StrictMode>` mais on va assumer qu'il est affiché qu'une seule fois**"
   ]
  },
  {
   "cell_type": "markdown",
   "id": "03c835b7",
   "metadata": {},
   "source": [
    "# uncontrolled input\n",
    "\n",
    "```jsx\n",
    "import { useState } from 'react';\n",
    "\n",
    "function App() {\n",
    "  const handleData = (e) => {\n",
    "    e.preventDefault();\n",
    "    console.log(new FormData(e.target).get(\"myInput\");\n",
    "  }\n",
    "\n",
    "  return <form onSubmit={handleData}>\n",
    "    <label forHtml=\"myInput\">\n",
    "      Name:\n",
    "      <input type=\"text\" name=\"myInput\" id=\"myInput\"/>\n",
    "    </label>\n",
    "    <input type=\"submit\" value=\"Submit\" />\n",
    "  </form>\n",
    "}\n",
    "export default App\n",
    "```"
   ]
  },
  {
   "cell_type": "markdown",
   "id": "99e8f5fa",
   "metadata": {},
   "source": [
    "# uncontrolled input - defaultValue\n",
    "```jsx\n",
    "import { useState } from 'react';\n",
    "\n",
    "function App() {\n",
    "  const handleData = (e) => {\n",
    "    e.preventDefault();\n",
    "    console.log(new FormData(e.target).get(\"myInput\");\n",
    "  }\n",
    "\n",
    "  return <form onSubmit={handleData}>\n",
    "    <label forHtml=\"myInput\">\n",
    "      Name:\n",
    "      <input type=\"text\" name=\"myInput\" id=\"myInput\" defaultValue=\"Some default value\"/>\n",
    "    </label>\n",
    "    <input type=\"submit\" value=\"Submit\" />\n",
    "  </form>\n",
    "}\n",
    "export default App\n",
    "```"
   ]
  },
  {
   "cell_type": "markdown",
   "id": "63060ff3",
   "metadata": {
    "slideshow": {
     "slide_type": "slide"
    }
   },
   "source": [
    "# Controlled or Uncotrolled\n",
    "## Controlled\n",
    "\n",
    "On va choisir d'utiliser un champs controlé quand on veut avoir un rendu dynamique a chaques changements\n",
    "\n",
    "Gere très bien le `reset` aussi\n",
    "\n",
    "**/!\\ Pour changer la valeur d'un champs contollé, il ne faut pas oublier de spécifier les attributs `value` est `onChange`**"
   ]
  },
  {
   "cell_type": "markdown",
   "id": "6f7a8d03",
   "metadata": {},
   "source": [
    "# Controlled or Uncotrolled\n",
    "## Uncontrolled\n",
    "\n",
    "On va choisir d'utiliser un champs non controlé quand on s'en fiche d'avoir la valeur a chaques changements. Si on a besoin de la valeur seulement à la fin de l'interaction un champs non controlé est plus adapté.\n",
    "\n",
    "**/!\\ Si on veut un champs non controlé il ne faut pas spécifier l'attribut `value`**\n",
    "**/!\\ Si on veut un champs non controlé avec une valeur par défaut, il faut utiliser l'attribut `defaultValue`**"
   ]
  },
  {
   "cell_type": "markdown",
   "id": "4711c1e2",
   "metadata": {},
   "source": [
    "# Forms - edge case\n",
    "\n",
    "```jsx\n",
    "import { useState } from 'react';\n",
    "\n",
    "function App() {\n",
    "  const [value, setValue] = useState(undefined);\n",
    "  const handleChange = (e) => {\n",
    "    setValue(e.target.value);\n",
    "  }\n",
    "\n",
    "  return <form>\n",
    "    <label forHtml=\"myInput\">\n",
    "      Name:\n",
    "      <input type=\"text\" name=\"myInput\" id=\"myInput\" value={value} onChange={handleChange}/>\n",
    "    </label>\n",
    "    <input type=\"submit\" value=\"Submit\" />\n",
    "  </form>\n",
    "}"
   ]
  },
  {
   "cell_type": "markdown",
   "id": "85042ddc",
   "metadata": {},
   "source": [
    "Ici, on passe d'un champs non controlé (`undefined`) a un champs controlé. Quand on passe d'un champs non controlé a un champs controlé, on va avoir un eerreur dans la console, `A component is changing an uncontrolled input to be controlled.`.\n",
    "\n",
    "Si vous avez cette erreur, cela signifie que votre `value` est passé a `undefined` ou `null` a un moment donné.\n",
    "\n",
    "Pour éviter ceci, mettez une valeur chaîne vide (`''`) en paramètre de `useState`"
   ]
  },
  {
   "cell_type": "markdown",
   "id": "b7e7b057",
   "metadata": {},
   "source": [
    "# Forms - Textarea\n",
    "\n",
    "```jsx\n",
    "import { useState } from 'react';\n",
    "\n",
    "function App() {\n",
    "  const [value, setValue] = useState(\"\");\n",
    "  const handleChange = (e) => {\n",
    "    setValue(e.target.value);\n",
    "  }\n",
    "\n",
    "  return <form>\n",
    "    <label forHtml=\"myInput\">\n",
    "      Name:\n",
    "    </label>\n",
    "    <textarea name=\"myInput\" id=\"myInput\" value={value} onChange={handleChange}/>\n",
    "    <input type=\"submit\" value=\"Submit\" />\n",
    "  </form>\n",
    "}\n",
    "export default App\n",
    "```\n",
    "\n",
    "**/!\\ le `textArea` en `JSX` est géré differement qu'en `HTML`**"
   ]
  },
  {
   "cell_type": "markdown",
   "id": "64295c49",
   "metadata": {},
   "source": [
    "# Forms - Checkbox\n",
    "```jsx\n",
    "import { useState } from 'react';\n",
    "\n",
    "function App() {\n",
    "  const [value, setValue] = useState(\"\");\n",
    "  const handleChange = (e) => {\n",
    "    setValue(e.target.value);\n",
    "  }\n",
    "  const [checked, setChecked] = useState(false);\n",
    "  const toggleCheck = (e) => {\n",
    "    setChecked(!checked);\n",
    "  }\n",
    "\n",
    "\n",
    "  return <form>\n",
    "    <label forHtml=\"myInput\">\n",
    "      Name:\n",
    "    </label>\n",
    "    <textarea name=\"myInput\" id=\"myInput\" value={value} onChange={handleChange}/>\n",
    "    <input type=\"checkbox\" name=\"myCheck\" id=\"myCheck\" checked={checked} onChange={toggleCheck}/>\n",
    "    {checked && <input type=\"submit\" value=\"Submit\" />}\n",
    "  </form>\n",
    "}\n",
    "export default App\n",
    "```\n",
    "\n",
    "**/!\\ les `checkbox` en `JSX` est géré differement qu'en `HTML`**"
   ]
  },
  {
   "cell_type": "markdown",
   "id": "b6d8368b",
   "metadata": {},
   "source": [
    "# Forms - Checkbox\n",
    "```jsx\n",
    "import { useState } from 'react';\n",
    "\n",
    "function App() {\n",
    "  const [value, setValue] = useState(\"\");\n",
    "  const handleChange = (e) => {\n",
    "    setValue(e.target.value);\n",
    "  }\n",
    "  const [checked, setChecked] = useState(false);\n",
    "  const toggleCheck = (e) => {\n",
    "    setChecked(!checked);\n",
    "  }\n",
    "\n",
    "\n",
    "  return <form>\n",
    "    <label forHtml=\"myInput\">\n",
    "      Name:\n",
    "    </label>\n",
    "    <textarea name=\"myInput\" id=\"myInput\" value={value} onChange={handleChange}/>\n",
    "    <input type=\"checkbox\" name=\"myCheck\" id=\"myCheck\" checked={checked} onChange={toggleCheck}/>\n",
    "    <input type=\"submit\" value=\"Submit\" disabled={!checked}/>\n",
    "  </form>\n",
    "}\n",
    "export default App\n",
    "```\n",
    "\n",
    "**/!\\ les `checkbox` en `JSX` est géré differement qu'en `HTML`**"
   ]
  }
 ],
 "metadata": {
  "celltoolbar": "Slideshow",
  "kernelspec": {
   "display_name": "Python 3 (ipykernel)",
   "language": "python",
   "name": "python3"
  },
  "language_info": {
   "codemirror_mode": {
    "name": "ipython",
    "version": 3
   },
   "file_extension": ".py",
   "mimetype": "text/x-python",
   "name": "python",
   "nbconvert_exporter": "python",
   "pygments_lexer": "ipython3",
   "version": "3.10.13"
  }
 },
 "nbformat": 4,
 "nbformat_minor": 5
}

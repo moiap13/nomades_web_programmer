{
 "cells": [
  {
   "cell_type": "markdown",
   "id": "83e01e82",
   "metadata": {
    "slideshow": {
     "slide_type": "slide"
    }
   },
   "source": [
    "# Data Flux\n",
    "\n",
    "## WebProgrammer \n",
    "## Week 4: React\n",
    "\n",
    "### Antonio Pisanello - Nomades"
   ]
  },
  {
   "cell_type": "markdown",
   "id": "9d99275e",
   "metadata": {
    "slideshow": {
     "slide_type": "slide"
    }
   },
   "source": [
    "# Introduction\n",
    "\n",
    "Les flux de données permettent de passer des infomrations des composants parents aux composants enfants.\n",
    "\n",
    "Nous Avons vu que l'on peut créer et imbriquer différents composants à l'intérieur d'autres composants et cela nous a permits de faire passer de l'informations du `parent` à l'`enfant` en utilisant les `props`."
   ]
  },
  {
   "cell_type": "markdown",
   "id": "22175b0b",
   "metadata": {
    "slideshow": {
     "slide_type": "slide"
    }
   },
   "source": [
    "# Some example\n",
    "\n",
    "```jsx\n",
    "function App() {\n",
    "  return <form>\n",
    "    <CGUCheckbox checked/>\n",
    "    <input type=\"submit\" value=\"Submit\" />\n",
    "  </form>\n",
    "}\n",
    "\n",
    "function CGUCheckbox ({checked}) {\n",
    "  return <div>\n",
    "    <label>\n",
    "      <input type=\"checkbox\" checked={checked} />\n",
    "      I read and accept the conditions of use\n",
    "    </label>\n",
    "  </div>\n",
    "}\n",
    "\n",
    "export default App;\n",
    "```\n",
    "Flux de données standard de `React`, les `parents` envoient le flux de donné vers les `enfants`."
   ]
  },
  {
   "cell_type": "markdown",
   "id": "d1b48837",
   "metadata": {
    "slideshow": {
     "slide_type": "slide"
    }
   },
   "source": [
    "# Some example\n",
    "\n",
    "```jsx\n",
    "import { useState } from \"react\";\n",
    "\n",
    "function App() {\n",
    "  const [isTermsAccepted, setIsTermsAccepted] = useState(false);\n",
    "\n",
    "  return <form>\n",
    "    <CGUCheckbox checked={isTermsAccepted}/>\n",
    "    <button type=\"submit\" disabled={!isTermsAccepted}>Send</button>\n",
    "  </form>\n",
    "}\n",
    "\n",
    "function CGUCheckbox ({checked}) {\n",
    "  return <div>\n",
    "    <label>\n",
    "      <input type=\"checkbox\" checked={checked} />\n",
    "      I read and accept the conditions of use\n",
    "    </label>\n",
    "  </div>\n",
    "}\n",
    "\n",
    "export default App;\n",
    "```\n",
    "\n",
    "J'aimerais bien que le `CGUCheckbox` puisse changer l'état de `isTermsAccepted` dans le `App` en cliquant sur le `checkbox`. Thus, que l'`enfant` puisse envoyer des informations au `parent`."
   ]
  },
  {
   "cell_type": "markdown",
   "id": "9b60779e",
   "metadata": {
    "slideshow": {
     "slide_type": "slide"
    }
   },
   "source": [
    "# La callback\n",
    "\n",
    "```jsx\n",
    "import { useState } from \"react\";\n",
    "\n",
    "function App() {\n",
    "  const [isTermsAccepted, setIsTermsAccepted] = useState(false);\n",
    "\n",
    "  return <form>\n",
    "    <CGUCheckbox checked={isTermsAccepted} onCheck={setIsTermAccepted}/>\n",
    "    <button type=\"submit\" disabled={!isTermsAccepted}>Send</button>\n",
    "  </form>\n",
    "}\n",
    "\n",
    "function CGUCheckbox ({checked, onCheck}) {\n",
    "\n",
    "  return <div>\n",
    "    <label>\n",
    "      <input \n",
    "        type=\"checkbox\" \n",
    "        checked={checked}\n",
    "        onChange={e => onCheck(e.target.checked)}\n",
    "      />\n",
    "      I read and accept the conditions of use\n",
    "    </label>\n",
    "  </div>\n",
    "}\n",
    "\n",
    "export default App;\n",
    "```\n",
    "\n",
    "J'aimerais bien que le `CGUCheckbox` puisse changer l'état de `isTermsAccepted` dans le `App` en cliquant sur le `checkbox`. Thus, que l'`enfant` puisse envoyer des informations au `parent`."
   ]
  },
  {
   "cell_type": "markdown",
   "id": "17e68a8a",
   "metadata": {
    "slideshow": {
     "slide_type": "slide"
    }
   },
   "source": [
    "# Que se passe-t-il ici ?\n",
    "\n",
    "La magie des `callbacks`"
   ]
  },
  {
   "cell_type": "markdown",
   "id": "2e649db9",
   "metadata": {
    "slideshow": {
     "slide_type": "slide"
    }
   },
   "source": [
    "# Que se passe-t-il ici ?\n",
    "\n",
    "Le `parent` passe via les `props` a l'`enfant` une `callback` qui permet à l'`enfant` de changer l'état du `parent`. Cette `callback` est simplement la fonction `setter` du state du parent. Ainsi l'`enfant` sait comment changer la valeur de l'état.\n",
    "\n",
    "Ceci s'appelle le `reverse data flow` ou `lifting state up`."
   ]
  }
 ],
 "metadata": {
  "celltoolbar": "Slideshow",
  "kernelspec": {
   "display_name": "Python 3 (ipykernel)",
   "language": "python",
   "name": "python3"
  },
  "language_info": {
   "codemirror_mode": {
    "name": "ipython",
    "version": 3
   },
   "file_extension": ".py",
   "mimetype": "text/x-python",
   "name": "python",
   "nbconvert_exporter": "python",
   "pygments_lexer": "ipython3",
   "version": "3.10.13"
  }
 },
 "nbformat": 4,
 "nbformat_minor": 5
}

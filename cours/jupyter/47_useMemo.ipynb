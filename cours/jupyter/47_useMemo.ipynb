{
 "cells": [
  {
   "cell_type": "markdown",
   "id": "83e01e82",
   "metadata": {
    "slideshow": {
     "slide_type": "slide"
    }
   },
   "source": [
    "# The useMemo Hook\n",
    "\n",
    "## WebProgrammer \n",
    "## Week 4: React\n",
    "\n",
    "### Antonio Pisanello - Nomades"
   ]
  },
  {
   "cell_type": "markdown",
   "id": "9d99275e",
   "metadata": {
    "slideshow": {
     "slide_type": "slide"
    }
   },
   "source": [
    "# Introduction\n",
    "\n",
    "Le hook `useMemo` permet de mémoriser le résultat d'une fonction pour éviter de la recalculer à chaque rendu. Il est utile pour optimiser les performances de votre application React."
   ]
  },
  {
   "cell_type": "markdown",
   "id": "22175b0b",
   "metadata": {
    "slideshow": {
     "slide_type": "slide"
    }
   },
   "source": [
    "# Initial code\n",
    "\n",
    "```jsx\n",
    "import { useState, useEffect, useMemo } from 'react'\n",
    "import { Input } from './components/forms/Input'\n",
    "import { Checkbox } from './components/forms/Checkbox'\n",
    "\n",
    "function App() {\n",
    "  const [username, setUsername] = useState('moiap13')\n",
    "  const [password, setPassword] = useState('password')\n",
    "  const security = passwordSecurity(password)\n",
    "\n",
    "  return <div className=\"container my-3 vstack gap-2\">\n",
    "    <Input\n",
    "      label='Username'\n",
    "      placeholder='Username'\n",
    "      value={username}\n",
    "      onChange={setUsername}\n",
    "    />\n",
    "    <div>  \n",
    "      <Input\n",
    "        label='Password'\n",
    "        placeholder='Password'\n",
    "        value={password}\n",
    "        onChange={setPassword}\n",
    "      />\n",
    "      <div>Password security: {security}</div>\n",
    "    </div>\n",
    "  </div>\n",
    "\n",
    "function passwordSecurity(password) {\n",
    "  if (password.length < 8) return 'Weak'\n",
    "  if (password.length < 12) return 'Moderate'\n",
    "  return 'Strong'\n",
    "}\n",
    "export default App\n",
    "```"
   ]
  },
  {
   "cell_type": "markdown",
   "id": "0b1e29ce",
   "metadata": {},
   "source": [
    "Le problème avec ce code est que la fonction `passwordSecurity` est appelée à chaque rendu, même si la valeur de `password` n'a pas changé. Cela peut être un problème si la fonction est coûteuse en ressources."
   ]
  },
  {
   "cell_type": "markdown",
   "id": "d1b48837",
   "metadata": {
    "slideshow": {
     "slide_type": "slide"
    }
   },
   "source": [
    "# Initial code - weak performance simulation\n",
    "\n",
    "```jsx\n",
    "import { useState, useEffect, useMemo } from 'react'\n",
    "import { Input } from './components/forms/Input'\n",
    "import { Checkbox } from './components/forms/Checkbox'\n",
    "\n",
    "function App() {\n",
    "  const [username, setUsername] = useState('moiap13')\n",
    "  const [password, setPassword] = useState('password')\n",
    "  const security = passwordSecurity(password)\n",
    "\n",
    "  return <div className=\"container my-3 vstack gap-2\">\n",
    "    <Input\n",
    "      label='Username'\n",
    "      placeholder='Username'\n",
    "      value={username}\n",
    "      onChange={setUsername}\n",
    "    />\n",
    "    <div>  \n",
    "      <Input\n",
    "        label='Password'\n",
    "        placeholder='Password'\n",
    "        value={password}\n",
    "        onChange={setPassword}\n",
    "      />\n",
    "      <div>Password security: {security}</div>\n",
    "    </div>\n",
    "  </div>\n",
    "\n",
    "function passwordSecurity(password) {\n",
    "  // simulate a slow function\n",
    "  let start = performance.now()\n",
    "  while (performance.now() - start < 100) {}\n",
    "\n",
    "  if (password.length < 8) return 'Weak'\n",
    "  if (password.length < 12) return 'Moderate'\n",
    "  return 'Strong'\n",
    "}\n",
    "export default App\n",
    "```"
   ]
  },
  {
   "cell_type": "markdown",
   "id": "b20fdff2",
   "metadata": {},
   "source": [
    "Ici on voit que la fonction `passwordSecurity` est couûteuse en ressources et rallentit toute notre application.\n",
    "\n",
    "Quand on rentre le `password`, on est obligé d'attendre que la fonction se termine pour voir le résultat. Mais ce même comportement est observer quand on change le `username` alors que la fonction `passwordSecurity` retourne la même valeur qu'avant car le `password` n'a pas changé."
   ]
  },
  {
   "cell_type": "markdown",
   "id": "9b60779e",
   "metadata": {
    "slideshow": {
     "slide_type": "slide"
    }
   },
   "source": [
    "# Solution\n",
    "\n",
    "```jsx\n",
    "import { useState, useEffect, useMemo } from 'react'\n",
    "import { Input } from './components/forms/Input'\n",
    "import { Checkbox } from './components/forms/Checkbox'\n",
    "\n",
    "function App() {\n",
    "  const [username, setUsername] = useState('moiap13')\n",
    "  const [password, setPassword] = useState('password')\n",
    "  // Ici on utilise le hook useMemo pour mémoriser le résultat de la fonction passwordSecurity\n",
    "  // Contrairement à useEffect, useMemo retourne le résultat de la fonction, que je stoque dans la variable security\n",
    "  const security = useMemo(() => passwordSecurity(password), [password])\n",
    "\n",
    "  return <div className=\"container my-3 vstack gap-2\">\n",
    "    <Input\n",
    "      label='Username'\n",
    "      placeholder='Username'\n",
    "      value={username}\n",
    "      onChange={setUsername}\n",
    "    />\n",
    "    <div>  \n",
    "      <Input\n",
    "        label='Password'\n",
    "        placeholder='Password'\n",
    "        value={password}\n",
    "        onChange={setPassword}\n",
    "      />\n",
    "      <div>Password security: {security}</div>\n",
    "    </div>\n",
    "  </div>\n",
    "\n",
    "function passwordSecurity(password) {\n",
    "  // simulate a slow function\n",
    "  let start = performance.now()\n",
    "  while (performance.now() - start < 100) {}\n",
    "\n",
    "  if (password.length < 8) return 'Weak'\n",
    "  if (password.length < 12) return 'Moderate'\n",
    "  return 'Strong'\n",
    "}\n",
    "export default App\n",
    "```"
   ]
  },
  {
   "cell_type": "markdown",
   "id": "17e68a8a",
   "metadata": {
    "slideshow": {
     "slide_type": "slide"
    }
   },
   "source": [
    "Ici l'application sera toujours lente quand on changera le password, mais elle ne le sera plus quand on changera le username. Car tant que la `dépendance` de `useMemo` ne change pas, le résultat de la fonction ne sera pas recalculé."
   ]
  },
  {
   "cell_type": "markdown",
   "id": "2e649db9",
   "metadata": {
    "slideshow": {
     "slide_type": "slide"
    }
   },
   "source": [
    "# Pourquoi ne pas toujours utiliser `useMemo` ?\n",
    "\n",
    "Avant d'utiliser `useMemo`, il faut se demander si une **computation** est executée plus osuvent que nécessaire. Si c'est le cas, alors `useMemo` est une bonne solution. Mais si la computation est executée à chaque rendu, alors `useMemo` n'est pas la solution.\n",
    "\n",
    "De manière générale, on va `\"memoizer\"` les fonction qui sont coûteuse, et qui ne changent pas souvent. Si une fonction s'execute vite et change souvent, alors `useMemo` n'est pas la solution."
   ]
  },
  {
   "cell_type": "markdown",
   "id": "dc876762",
   "metadata": {
    "slideshow": {
     "slide_type": "slide"
    }
   },
   "source": [
    "# React comments\n",
    "\n",
    "En général, quand un calcul prend trop de temps à s'executer, `React` nous le dis:\n",
    "- Dans la console de `chrome` on peut choisir d'afficher en `verbose`\n",
    "- On peut voir des messages de Log de `Vite`\n",
    "- Mais aussi des messages de `React` qui nous disent que le rendu est trop long\n",
    "- Ces messages de `React` peuvent être un bon indicateur pour savoir si une optimisation est nécessaire"
   ]
  },
  {
   "cell_type": "markdown",
   "id": "c6d83d21",
   "metadata": {
    "slideshow": {
     "slide_type": "slide"
    }
   },
   "source": [
    "# useMemo - onMounted\n",
    "\n",
    "Comme pour `useEffect`, `useMemo` peut être utilisé pour executer une fonction au premier rendu. Pour cela, on passe un tableau vide comme deuxième argument.\n",
    "\n",
    "```jsx\n",
    "const today = useMemo(() => new Date(), [])\n",
    "```\n",
    "\n",
    "Ici, `today` sera la date du premier rendu, et ne changera pas par la suite.\n",
    "\n",
    "On peut utiliser cette approche quand on génère un nombre aléatoire, ou quand on veut mémoriser une valeur qui ne changera pas tant que le composant est vivant."
   ]
  },
  {
   "cell_type": "markdown",
   "id": "f1b20907",
   "metadata": {
    "slideshow": {
     "slide_type": "slide"
    }
   },
   "source": [
    "# Le `hook` useId\n",
    "\n",
    "Le `hook` `useId` permet de générer un `id` unique pour un élément `html`. Il est utile pour les formulaires, ou pour les éléments `html` qui ont besoin d'un `id`."
   ]
  },
  {
   "cell_type": "markdown",
   "id": "6e8989d8",
   "metadata": {
    "slideshow": {
     "slide_type": "slide"
    }
   },
   "source": [
    "# useId\n",
    "\n",
    "```jsx\n",
    "export function Input({placeholder, value, onChange, label}) {\n",
    "  const randomId = Math.random().toString(36).substring(7);\n",
    "  return <div>\n",
    "    {label && <label className=\"form-label\" htmlFor={randomId}>{label}</label>}\n",
    "    <input\n",
    "      id={randomId}\n",
    "      type=\"text\" \n",
    "      className=\"form-control\"\n",
    "      placeholder={placeholder} \n",
    "      value={value} \n",
    "      onChange={e => onChange(e.target.value);}\n",
    "    />\n",
    "  </div>\n",
    "}\n",
    "```"
   ]
  },
  {
   "cell_type": "markdown",
   "id": "ef0c5ed6",
   "metadata": {
    "slideshow": {
     "slide_type": "slide"
    }
   },
   "source": [
    "# useId\n",
    "\n",
    "```jsx\n",
    "export function Input({placeholder, value, onChange, label}) {\n",
    "  const id = useId();\n",
    "  return <div>\n",
    "    {label && <label className=\"form-label\" htmlFor={id}>{label}</label>}\n",
    "    <input\n",
    "      id={id}\n",
    "      type=\"text\" \n",
    "      className=\"form-control\"\n",
    "      placeholder={placeholder} \n",
    "      value={value} \n",
    "      onChange={e => onChange(e.target.value);}\n",
    "    />\n",
    "  </div>\n",
    "}\n",
    "```"
   ]
  },
  {
   "cell_type": "markdown",
   "id": "205ab5e5",
   "metadata": {
    "slideshow": {
     "slide_type": "slide"
    }
   },
   "source": [
    "# Conclusion\n",
    "\n",
    "- `useMemo` permet de mémoriser le résultat d'une fonction pour éviter de la recalculer à chaque rendu\n",
    "- `useMemo` est utile pour optimiser les performances de votre application React\n",
    "  - **/!\\ n'essayez pas de faire de l'optimization préventive**\n",
    "- `useMemo` est utile pour mémoriser des valeurs qui ne changent pas souvent\n",
    "- `useMemo` peut être utilisé pour executer une fonction au premier rendu\n",
    "- `useMemo` est coûteux en ressources, et ne doit être utilisé que si nécessaire\n",
    "- `useId` permet de générer un `id` unique pour un élément `html`"
   ]
  }
 ],
 "metadata": {
  "celltoolbar": "Slideshow",
  "kernelspec": {
   "display_name": "Python 3 (ipykernel)",
   "language": "python",
   "name": "python3"
  },
  "language_info": {
   "codemirror_mode": {
    "name": "ipython",
    "version": 3
   },
   "file_extension": ".py",
   "mimetype": "text/x-python",
   "name": "python",
   "nbconvert_exporter": "python",
   "pygments_lexer": "ipython3",
   "version": "3.10.13"
  }
 },
 "nbformat": 4,
 "nbformat_minor": 5
}

{
 "cells": [
  {
   "cell_type": "markdown",
   "id": "83e01e82",
   "metadata": {
    "slideshow": {
     "slide_type": "slide"
    }
   },
   "source": [
    "# The useMemo Hook\n",
    "\n",
    "## WebProgrammer \n",
    "## Week 4: React\n",
    "\n",
    "### Antonio Pisanello - Nomades"
   ]
  },
  {
   "cell_type": "markdown",
   "id": "9d99275e",
   "metadata": {
    "slideshow": {
     "slide_type": "slide"
    }
   },
   "source": [
    "# Introduction\n",
    "\n",
    "Le hook `useMemo` permet de mémoriser le résultat d'une fonction pour éviter de la recalculer à chaque rendu. Il est utile pour optimiser les performances de votre application React."
   ]
  },
  {
   "cell_type": "markdown",
   "id": "22175b0b",
   "metadata": {
    "slideshow": {
     "slide_type": "slide"
    }
   },
   "source": [
    "# Initial code\n",
    "\n",
    "```jsx\n",
    "import { useState, useEffect, useMemo } from 'react'\n",
    "import { Input } from './components/forms/Input'\n",
    "import { Checkbox } from './components/forms/Checkbox'\n",
    "\n",
    "function App() {\n",
    "  const [username, setUsername] = useState('moiap13')\n",
    "  const [password, setPassword] = useState('password')\n",
    "  const security = passwordSecurity(password)\n",
    "\n",
    "  return <div className=\"container my-3 vstack gap-2\">\n",
    "    <Input\n",
    "      label='Username'\n",
    "      placeholder='Username'\n",
    "      value={username}\n",
    "      onChange={setUsername}\n",
    "    />\n",
    "    <div>  \n",
    "      <Input\n",
    "        label='Password'\n",
    "        placeholder='Password'\n",
    "        value={password}\n",
    "        onChange={setPassword}\n",
    "      />\n",
    "      <div>Password security: {security}</div>\n",
    "    </div>\n",
    "  </div>\n",
    "\n",
    "function passwordSecurity(password) {\n",
    "  if (password.length < 8) return 'Weak'\n",
    "  if (password.length < 12) return 'Moderate'\n",
    "  return 'Strong'\n",
    "}\n",
    "export default App\n",
    "```"
   ]
  },
  {
   "cell_type": "markdown",
   "id": "0b1e29ce",
   "metadata": {},
   "source": [
    "Le problème avec ce code est que la fonction `passwordSecurity` est appelée à chaque rendu, même si la valeur de `password` n'a pas changé. Cela peut être un problème si la fonction est coûteuse en ressources."
   ]
  },
  {
   "cell_type": "markdown",
   "id": "d1b48837",
   "metadata": {
    "slideshow": {
     "slide_type": "slide"
    }
   },
   "source": [
    "# Initial code - weak performance simulation\n",
    "\n",
    "```jsx\n",
    "import { useState, useEffect, useMemo } from 'react'\n",
    "import { Input } from './components/forms/Input'\n",
    "import { Checkbox } from './components/forms/Checkbox'\n",
    "\n",
    "function App() {\n",
    "  const [username, setUsername] = useState('moiap13')\n",
    "  const [password, setPassword] = useState('password')\n",
    "  const security = passwordSecurity(password)\n",
    "\n",
    "  return <div className=\"container my-3 vstack gap-2\">\n",
    "    <Input\n",
    "      label='Username'\n",
    "      placeholder='Username'\n",
    "      value={username}\n",
    "      onChange={setUsername}\n",
    "    />\n",
    "    <div>  \n",
    "      <Input\n",
    "        label='Password'\n",
    "        placeholder='Password'\n",
    "        value={password}\n",
    "        onChange={setPassword}\n",
    "      />\n",
    "      <div>Password security: {security}</div>\n",
    "    </div>\n",
    "  </div>\n",
    "\n",
    "function passwordSecurity(password) {\n",
    "  // simulate a slow function\n",
    "  let start = performance.now()\n",
    "  while (performance.now() - start < 100) {}\n",
    "\n",
    "  if (password.length < 8) return 'Weak'\n",
    "  if (password.length < 12) return 'Moderate'\n",
    "  return 'Strong'\n",
    "}\n",
    "export default App\n",
    "```"
   ]
  },
  {
   "cell_type": "markdown",
   "id": "b20fdff2",
   "metadata": {},
   "source": [
    "Ici on voit que la fonction `passwordSecurity` est couûteuse en ressources et rallentit toute notre application.\n",
    "\n",
    "Quand on rentre le `password`, on est obligé d'attendre que la fonction se termine pour voir le résultat. Mais ce même comportement est observer quand on change le `username` alors que la fonction `passwordSecurity` retourne la même valeur qu'avant car le `password` n'a pas changé."
   ]
  },
  {
   "cell_type": "markdown",
   "id": "9b60779e",
   "metadata": {
    "slideshow": {
     "slide_type": "slide"
    }
   },
   "source": [
    "# Solution\n",
    "\n",
    "```jsx\n",
    "import { useState, useEffect, useMemo } from 'react'\n",
    "import { Input } from './components/forms/Input'\n",
    "import { Checkbox } from './components/forms/Checkbox'\n",
    "\n",
    "function App() {\n",
    "  const [username, setUsername] = useState('moiap13')\n",
    "  const [password, setPassword] = useState('password')\n",
    "  // Ici on utilise le hook useMemo pour mémoriser le résultat de la fonction passwordSecurity\n",
    "  // Contrairement à useEffect, useMemo retourne le résultat de la fonction, que je stoque dans la variable security\n",
    "  const security = useMemo(() => passwordSecurity(password), [password])\n",
    "\n",
    "  return <div className=\"container my-3 vstack gap-2\">\n",
    "    <Input\n",
    "      label='Username'\n",
    "      placeholder='Username'\n",
    "      value={username}\n",
    "      onChange={setUsername}\n",
    "    />\n",
    "    <div>  \n",
    "      <Input\n",
    "        label='Password'\n",
    "        placeholder='Password'\n",
    "        value={password}\n",
    "        onChange={setPassword}\n",
    "      />\n",
    "      <div>Password security: {security}</div>\n",
    "    </div>\n",
    "  </div>\n",
    "\n",
    "function passwordSecurity(password) {\n",
    "  // simulate a slow function\n",
    "  let start = performance.now()\n",
    "  while (performance.now() - start < 100) {}\n",
    "\n",
    "  if (password.length < 8) return 'Weak'\n",
    "  if (password.length < 12) return 'Moderate'\n",
    "  return 'Strong'\n",
    "}\n",
    "export default App\n",
    "```"
   ]
  },
  {
   "cell_type": "markdown",
   "id": "17e68a8a",
   "metadata": {
    "slideshow": {
     "slide_type": "slide"
    }
   },
   "source": [
    "Ici l'application sera toujours lente quand on changera le password, mais elle ne le sera plus quand on changera le username. Car tant que la `dépendance` de `useMemo` ne change pas, le résultat de la fonction ne sera pas recalculé."
   ]
  },
  {
   "cell_type": "markdown",
   "id": "2e649db9",
   "metadata": {
    "slideshow": {
     "slide_type": "slide"
    }
   },
   "source": [
    "# Pourquoi ne pas toujours utiliser `useMemo` ?\n",
    "\n",
    "Avant d'utiliser `useMemo`, il faut se demander si une **computation** est executée plus osuvent que nécessaire. Si c'est le cas, alors `useMemo` est une bonne solution. Mais si la computation est executée à chaque rendu, alors `useMemo` n'est pas la solution.\n",
    "\n",
    "De manière générale, on va `\"memoizer\"` les fonction qui sont coûteuse, et qui ne changent pas souvent. Si une fonction s'execute vite et change souvent, alors `useMemo` n'est pas la solution."
   ]
  },
  {
   "cell_type": "markdown",
   "id": "dc876762",
   "metadata": {},
   "source": [
    "# React comments\n",
    "\n",
    "En général, quand un calcul prend trop de temps à s'executer, `React` nous le dis:\n",
    "- Dans la console de `chrome` on peut choisir d'afficher en `verbose`\n",
    "- On peut voir des messages de Log de `Vite`\n",
    "- Mais aussi des messages de `React` qui nous disent que le rendu est trop long\n",
    "- Ces messages de `React` peuvent être un bon indicateur pour savoir si une optimisation est nécessaire"
   ]
  },
  {
   "cell_type": "markdown",
   "id": "c6d83d21",
   "metadata": {},
   "source": [
    "# useMemo - onMounted\n",
    "\n",
    "Comme pour `useEffect`, `useMemo` peut être utilisé pour executer une fonction au premier rendu. Pour cela, on passe un tableau vide comme deuxième argument.\n",
    "\n",
    "```jsx\n",
    "const today = useMemo(() => new Date(), [])\n",
    "```\n",
    "\n",
    "Ici, `today` sera la date du premier rendu, et ne changera pas par la suite.\n",
    "\n",
    "On peut utiliser cette approche quand on génère un nombre aléatoire, ou quand on veut mémoriser une valeur qui ne changera pas tant que le composant est vivant."
   ]
  },
  {
   "cell_type": "markdown",
   "id": "f1b20907",
   "metadata": {},
   "source": [
    "# Le `hook` useId\n",
    "\n",
    "Le `hook` `useId` permet de générer un `id` unique pour un élément `html`. Il est utile pour les formulaires, ou pour les éléments `html` qui ont besoin d'un `id`."
   ]
  },
  {
   "cell_type": "markdown",
   "id": "6e8989d8",
   "metadata": {},
   "source": [
    "# useId\n",
    "\n",
    "```jsx\n",
    "export function Input({placeholder, value, onChange, label}) {\n",
    "  const randomId = Math.random().toString(36).substring(7);\n",
    "  return <div>\n",
    "    {label && <label className=\"form-label\" htmlFor={randomId}>{label}</label>}\n",
    "    <input\n",
    "      id={randomId}\n",
    "      type=\"text\" \n",
    "      className=\"form-control\"\n",
    "      placeholder={placeholder} \n",
    "      value={value} \n",
    "      onChange={e => onChange(e.target.value);}\n",
    "    />\n",
    "  </div>\n",
    "}\n",
    "```"
   ]
  },
  {
   "cell_type": "markdown",
   "id": "ef0c5ed6",
   "metadata": {},
   "source": [
    "# useId\n",
    "\n",
    "```jsx\n",
    "export function Input({placeholder, value, onChange, label}) {\n",
    "  const id = useId();\n",
    "  return <div>\n",
    "    {label && <label className=\"form-label\" htmlFor={id}>{label}</label>}\n",
    "    <input\n",
    "      id={id}\n",
    "      type=\"text\" \n",
    "      className=\"form-control\"\n",
    "      placeholder={placeholder} \n",
    "      value={value} \n",
    "      onChange={e => onChange(e.target.value);}\n",
    "    />\n",
    "  </div>\n",
    "}\n",
    "```"
   ]
  },
  {
   "cell_type": "markdown",
   "id": "205ab5e5",
   "metadata": {},
   "source": [
    "# Conclusion\n",
    "\n",
    "- `useMemo` permet de mémoriser le résultat d'une fonction pour éviter de la recalculer à chaque rendu\n",
    "- `useMemo` est utile pour optimiser les performances de votre application React\n",
    "  - **/!\\ n'essayez pas de faire de l'optimization préventive**\n",
    "- `useMemo` est utile pour mémoriser des valeurs qui ne changent pas souvent\n",
    "- `useMemo` peut être utilisé pour executer une fonction au premier rendu\n",
    "- `useMemo` est coûteux en ressources, et ne doit être utilisé que si nécessaire\n",
    "- `useId` permet de générer un `id` unique pour un élément `html`\n",
    "- `useId` est utile pour les formulaires, ou pour les éléments `html` qui ont besoin d'un `id`\n",
    "- `useId` est utile pour éviter de générer des `id` aléatoires à chaque rendu"
   ]
  },
  {
   "cell_type": "markdown",
   "id": "d40d8626",
   "metadata": {},
   "source": [
    "Ici le problème est que le scroll event listener n'est jamais retiré. Quand le composant \"disparait\", le listener continue à écouter les événements.\n",
    "\n",
    "Pour remedier a ça, on peut retourner une fonction dans le `useEffect` qui sera appelée lors du démontage du composant."
   ]
  },
  {
   "cell_type": "markdown",
   "id": "f19fea92",
   "metadata": {},
   "source": [
    "# useEffect - clean events listeners\n",
    "\n",
    "On peut utiliser le `hook` `useEffect` pour effectuer des actions lors du montage du composant.\n",
    "\n",
    "Quand on ne specifie pas de dépendances le `hook` `useEffect` est appelé une seule fois lors du montage du composant. on appelle ce moment `onMounted`.\n",
    "\n",
    "```jsx\n",
    "function EditTitle() {\n",
    "  const [title, setTitle] = useState('')\n",
    "  const [firstname, setFirstname] = useState('')\n",
    "  const [y, setY] = useState(0)\n",
    "\n",
    "  useEffect(() => {\n",
    "    const scrollHandler = () => {\n",
    "      console.log('scroll')\n",
    "      setY(window.scrollY)\n",
    "    }\n",
    "    window.addEventListener('scroll', scrollHandler)\n",
    "    \n",
    "    return () => {\n",
    "      window.removeEventListener('scroll', scrollHandler)\n",
    "    }\n",
    "  }, [])\n",
    "\n",
    "  useEffect(() => {\n",
    "    document.title = title\n",
    "  }, [title])\n",
    "\n",
    "  return <div className='vstack gap-3'>\n",
    "    <div>Y: {y}</div>\n",
    "    <Input\n",
    "      placeholder='Modify Title'\n",
    "      value={title}\n",
    "      onChange={setTitle}\n",
    "    />\n",
    "    <Input\n",
    "      placeholder='Firstname'\n",
    "      value={firstname}\n",
    "      onChange={setFirstname}\n",
    "    />\n",
    "  </div>\n",
    "}\n",
    "```"
   ]
  },
  {
   "cell_type": "markdown",
   "id": "39f7ef4a",
   "metadata": {},
   "source": [
    "**Note: on peut aussi utiliser la callback de nettoyage quand il y a une dépendance, dans ce cas, quand la dépendance change, la fonction de nettoyage est d'abord appellée et ensuite la callback `useEffect`**"
   ]
  },
  {
   "cell_type": "markdown",
   "id": "b8c55d7b",
   "metadata": {},
   "source": [
    "# useEffect - Pro Tips\n",
    "\n",
    "Le `hook` `useEffect` est utilisé pour les **effets de bords** comme brancher des éléments globaux ou modifier des trucs qui \"n'appartiennent pas\" au composant (qui sont en dehors).\n",
    "\n",
    "```jsx\n",
    "useEffect(() => {\n",
    "  setY(window.scrollY)\n",
    "}, [title])\n",
    "```\n",
    "\n",
    "l'example ci dessus est un mauvais exemple, car on ne devrait pas utiliser le `useEffect` pour mettre à jour une variable d'état. On devrait utiliser le `useState` pour ça. *De manière générale, quand on a un `setter` en première instruction d'un `useEffect`, c'est qu'on fait quelque chose de mal, il y a une autre façon de le faire*"
   ]
  },
  {
   "cell_type": "markdown",
   "id": "ea9e72b6",
   "metadata": {},
   "source": [
    "# useEffect - Pro Tips\n",
    "\n",
    "```jsx\n",
    "function App() {\n",
    "  const [duration, setDuration] = useState(5)\n",
    "  const [secondsLeft, setSecondsLeft] = useState(duration)\n",
    "\n",
    "  console.log('render')\n",
    "\n",
    "  useEffect(() => {\n",
    "    setSecondsLeft(secondsLeft - 1)\n",
    "  }, [duration])\n",
    "\n",
    "  return <div className='vstack gap-2'>\n",
    "    <Input\n",
    "      placeholder='Duration'\n",
    "      value={duration}\n",
    "      onChange={setDuration}\n",
    "    />\n",
    "    <div>Seconds Left: {secondsLeft}</div>\n",
    "  </div>\n",
    "}\n",
    "```"
   ]
  },
  {
   "cell_type": "markdown",
   "id": "892140e7",
   "metadata": {},
   "source": [
    "Ici le problème est que le `useEffect` est appellé à chaque fois que `duration` change, or le changement de `duration` re-rend le composant, ce qui re-appelle le `useEffect` qui le re-rend a son tour. Le composant sera re-rendu deux fois au lieu d'une seule."
   ]
  },
  {
   "cell_type": "markdown",
   "id": "93822502",
   "metadata": {},
   "source": [
    "# useEffect - Pro Tips\n",
    "\n",
    "```jsx\n",
    "function App() {\n",
    "  const [duration, setDuration] = useState(5)\n",
    "  const [secondsLeft, setSecondsLeft] = useState(duration)\n",
    "\n",
    "  console.log('render')\n",
    "\n",
    "  const handleChange = (v) => {\n",
    "    setDuration(v)\n",
    "    setSecondsLeft(v)\n",
    "  }\n",
    "\n",
    "  useEffect(() => {\n",
    "    const interval = setInterval(() => {\n",
    "      setSecondsLeft(v => v - 1)\n",
    "    }, 1000)\n",
    "    return () => {\n",
    "      clearInterval(interval)\n",
    "    }\n",
    "  }, [duration])\n",
    "\n",
    "  return <div className='vstack gap-2'>\n",
    "    <Input\n",
    "      placeholder='Duration'\n",
    "      value={duration}\n",
    "      onChange={handleChange}\n",
    "    />\n",
    "    <div>Seconds Left: {secondsLeft}</div>\n",
    "  </div>\n",
    "}\n",
    "```"
   ]
  },
  {
   "cell_type": "markdown",
   "id": "e92ceaa2",
   "metadata": {},
   "source": [
    "# TP - Correction \n",
    "\n",
    "```jsx\n",
    "function App() {\n",
    "  const [duration, setDuration] = useState(5)\n",
    "  const [secondsLeft, setSecondsLeft] = useState(duration)\n",
    "\n",
    "  console.log('render')\n",
    "\n",
    "  const handleChange = (v) => {\n",
    "    setDuration(v)\n",
    "    setSecondsLeft(v)\n",
    "  }\n",
    "\n",
    "  useEffect(() => {\n",
    "    const interval = setInterval(() => {\n",
    "      setSecondsLeft(v => {\n",
    "        if (v === 0) {\n",
    "          clearInterval(interval)\n",
    "          return 0\n",
    "        }\n",
    "        return v - 1\n",
    "      })\n",
    "    }, 1000)\n",
    "    return () => {\n",
    "      clearInterval(interval)\n",
    "    }\n",
    "  }, [duration])\n",
    "\n",
    "  return <div className='vstack gap-2'>\n",
    "    <Input\n",
    "      placeholder='Duration'\n",
    "      value={duration}\n",
    "      onChange={handleChange}\n",
    "    />\n",
    "    <div>Seconds Left: {secondsLeft}</div>\n",
    "  </div>\n",
    "}\n",
    "```"
   ]
  },
  {
   "cell_type": "markdown",
   "id": "6b017579",
   "metadata": {},
   "source": [
    "# useEffect - Conclusion\n",
    "\n",
    "Le `hook` `useEffect` est utilisé pour gérer les effets de bord dans les composants. Les effets de bord sont des actions qui sont effectuées en dehors du cycle de vie normal des composants React. comme par exemple:\n",
    "- Brancher des éléments globaux\n",
    "- setTimeout, setInterval\n",
    "- Fetch des données\n",
    "\n",
    "Penser a utiliser la callback de retour pour nettoyer vore `useEffect`.\n",
    "\n",
    "**De manière générale, on essaiera d'utiliser le moins possible `useEffect`, voyez `useEffect` comme une solution de dernier recours**\n",
    "\n",
    "[you might not need an effect](https://react.dev/learn/you-might-not-need-an-effect)"
   ]
  }
 ],
 "metadata": {
  "celltoolbar": "Slideshow",
  "kernelspec": {
   "display_name": "Python 3 (ipykernel)",
   "language": "python",
   "name": "python3"
  },
  "language_info": {
   "codemirror_mode": {
    "name": "ipython",
    "version": 3
   },
   "file_extension": ".py",
   "mimetype": "text/x-python",
   "name": "python",
   "nbconvert_exporter": "python",
   "pygments_lexer": "ipython3",
   "version": "3.10.13"
  }
 },
 "nbformat": 4,
 "nbformat_minor": 5
}

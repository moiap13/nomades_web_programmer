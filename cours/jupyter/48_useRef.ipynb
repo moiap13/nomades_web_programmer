{
 "cells": [
  {
   "cell_type": "markdown",
   "id": "83e01e82",
   "metadata": {
    "slideshow": {
     "slide_type": "slide"
    }
   },
   "source": [
    "# The useRef Hook\n",
    "\n",
    "## WebProgrammer \n",
    "## Week 4: React\n",
    "\n",
    "### Antonio Pisanello - Nomades"
   ]
  },
  {
   "cell_type": "markdown",
   "id": "9d99275e",
   "metadata": {
    "slideshow": {
     "slide_type": "slide"
    }
   },
   "source": [
    "# Introduction\n",
    "\n",
    "Le `hook` `useRef` est un `hook` qui permet de créer une référence mutable. Il est utile pour stocker des valeurs qui ne changent pas entre les rendus. Il est également utile pour accéder à des éléments du DOM."
   ]
  },
  {
   "cell_type": "markdown",
   "id": "22175b0b",
   "metadata": {
    "slideshow": {
     "slide_type": "slide"
    }
   },
   "source": [
    "# Initial code\n",
    "\n",
    "```jsx\n",
    "import { useState, useEffect, useMemo, useId, useRef } from 'react'\n",
    "import { Input } from './components/forms/Input'\n",
    "import { Checkbox } from './components/forms/Checkbox'\n",
    "\n",
    "function App() {\n",
    "  return <div>\n",
    "    Lorem ipsum dolor sit amet, consectetur adipiscing elit. Nulla quam velit, vulputate eu pharetra nec, mattis ac neque. Duis vulputate commodo lectus, ac blandit elit tincidunt id. Sed rhoncus, tortor sed eleifend tristique, tortor mauris molestie elit, et lacinia ipsum quam nec dui. Quisque a lectus. Donec et imperdiet nibh. Suspendisse potenti.\n",
    "  </div>\n",
    "}\n",
    "export default App\n",
    "```"
   ]
  },
  {
   "cell_type": "markdown",
   "id": "0b1e29ce",
   "metadata": {},
   "source": [
    "Admettons que l'on veuille calculer la hauteur de la div.\n",
    "\n",
    "Jusqu'a présent, on a surtout laissé `React` gérer le `DOM` pour nous. Mais parfois, on a besoin d'accéder à des éléments du `DOM` pour obtenir des informations sur eux. C'est là que `useRef` entre en jeu."
   ]
  },
  {
   "cell_type": "markdown",
   "id": "d1b48837",
   "metadata": {
    "slideshow": {
     "slide_type": "slide"
    }
   },
   "source": [
    "# Initial code\n",
    "\n",
    "```jsx\n",
    "function App() {\n",
    "  const divRef = useRef(null)\n",
    "  \n",
    "  console.log(divRef)\n",
    "  \n",
    "  return <div>\n",
    "    Lorem ipsum dolor sit amet, consectetur adipiscing elit. Nulla quam velit, vulputate eu pharetra nec, mattis ac neque. Duis vulputate commodo lectus, ac blandit elit tincidunt id. Sed rhoncus, tortor sed eleifend tristique, tortor mauris molestie elit, et lacinia ipsum quam nec dui. Quisque a lectus. Donec et imperdiet nibh. Suspendisse potenti.\n",
    "  </div>\n",
    "}\n",
    "export default App\n",
    "```"
   ]
  },
  {
   "cell_type": "markdown",
   "id": "b20fdff2",
   "metadata": {},
   "source": [
    "Dans la console, on peut voir que `divRef` est un objet avec une propriété `current` qui est `null`."
   ]
  },
  {
   "cell_type": "markdown",
   "id": "9b60779e",
   "metadata": {
    "slideshow": {
     "slide_type": "slide"
    }
   },
   "source": [
    "# Initial code\n",
    "\n",
    "```jsx\n",
    "function App() {\n",
    "  const divRef = useRef(null)\n",
    "  \n",
    "  console.log(divRef)\n",
    "  \n",
    "  return <div onClick={e => ref.current = 'hello'}>\n",
    "    Lorem ipsum dolor sit amet, consectetur adipiscing elit. Nulla quam velit, vulputate eu pharetra nec, mattis ac neque. Duis vulputate commodo lectus, ac blandit elit tincidunt id. Sed rhoncus, tortor sed eleifend tristique, tortor mauris molestie elit, et lacinia ipsum quam nec dui. Quisque a lectus. Donec et imperdiet nibh. Suspendisse potenti.\n",
    "  </div>\n",
    "}\n",
    "export default App\n",
    "```"
   ]
  },
  {
   "cell_type": "markdown",
   "id": "17e68a8a",
   "metadata": {
    "slideshow": {
     "slide_type": "slide"
    }
   },
   "source": [
    "Quand je clique sur la div, `divRef.current` devient `'hello'`. \n",
    "\n",
    "C'est une manière de stocker des valeurs entre le `state` et le `DOM`. \n",
    "\n",
    "On peut remarquer que le `component` n'a pas été re-rendu."
   ]
  },
  {
   "cell_type": "markdown",
   "id": "2e649db9",
   "metadata": {
    "slideshow": {
     "slide_type": "slide"
    }
   },
   "source": [
    "# Utiliser `ref` pour stocker un élément du `DOM`\n",
    "\n",
    "```jsx\n",
    "function App() {\n",
    "  const divRef = useRef(null)\n",
    "  \n",
    "  console.log(divRef)\n",
    "  \n",
    "  return <div ref={divRef}>\n",
    "    Lorem ipsum dolor sit amet, consectetur adipiscing elit. Nulla quam velit, vulputate eu pharetra nec, mattis ac neque. Duis vulputate commodo lectus, ac blandit elit tincidunt id. Sed rhoncus, tortor sed eleifend tristique, tortor mauris molestie elit, et lacinia ipsum quam nec dui. Quisque a lectus. Donec et imperdiet nibh. Suspendisse potenti.\n",
    "  </div>\n",
    "}\n",
    "```"
   ]
  },
  {
   "cell_type": "markdown",
   "id": "dc876762",
   "metadata": {},
   "source": [
    "# Utiliser `ref` pour stocker un élément du `DOM`\n",
    "\n",
    "```jsx\n",
    "function App() {\n",
    "  const divRef = useRef(null)\n",
    "  \n",
    "  useEffect(() => {\n",
    "    console.log(divRef.current.offsetHeight)\n",
    "  }, [])\n",
    "  \n",
    "  return <div ref={divRef}>\n",
    "    Lorem ipsum dolor sit amet, consectetur adipiscing elit. Nulla quam velit, vulputate eu pharetra nec, mattis ac neque. Duis vulputate commodo lectus, ac blandit elit tincidunt id. Sed rhoncus, tortor sed eleifend tristique, tortor mauris molestie elit, et lacinia ipsum quam nec dui. Quisque a lectus. Donec et imperdiet nibh. Suspendisse potenti.\n",
    "  </div>\n",
    "}\n",
    "```"
   ]
  },
  {
   "cell_type": "markdown",
   "id": "c6d83d21",
   "metadata": {},
   "source": [
    "# Pro Tip\n",
    "\n",
    "Pour attendre que le `DOM` soit chargé avant de faire des opérations dessus, on peut utiliser `useEffect` avec un tableau de dépendances vide.\n",
    "\n",
    "En procédant de cette manière, quand on fera le `console.log` la `ref` sera set et on aura pas d'erreur."
   ]
  },
  {
   "cell_type": "markdown",
   "id": "f1b20907",
   "metadata": {},
   "source": [
    "# Utiliser `ref`\n",
    "\n",
    "```jsx\n",
    "function App() {\n",
    "  const divRef = useRef(null)\n",
    "  const [prefix, setPrefix] = useState('')\n",
    "  \n",
    "  useEffect(() => {\n",
    "    const t = setInterval(() => {\n",
    "      console.log(prefix)\n",
    "    }, 1000)\n",
    "    return () => clearInterval(t)\n",
    "  }, [])\n",
    "  \n",
    "  return <div ref={divRef}>\n",
    "    <Input label=\"prefix\" value={prefix} onChange={setPrefix} />\n",
    "    Lorem ipsum dolor sit amet, consectetur adipiscing elit. Nulla quam velit, vulputate eu pharetra nec, mattis ac neque. Duis vulputate commodo lectus, ac blandit elit tincidunt id. Sed rhoncus, tortor sed eleifend tristique, tortor mauris molestie elit, et lacinia ipsum quam nec dui. Quisque a lectus. Donec et imperdiet nibh. Suspendisse potenti.\n",
    "  </div>\n",
    "}\n",
    "```"
   ]
  },
  {
   "cell_type": "markdown",
   "id": "6e8989d8",
   "metadata": {},
   "source": [
    "On se rend compte que les `console.log` ne sont pas affichés. C'est parce que le `useEffect` est executé qu'une seule fois et donc le `setInterval` n'est pas mis à jour."
   ]
  },
  {
   "cell_type": "markdown",
   "id": "ef0c5ed6",
   "metadata": {},
   "source": [
    "# Utiliser `ref`\n",
    "\n",
    "```jsx\n",
    "function App() {\n",
    "  const divRef = useRef(null)\n",
    "  const [prefix, setPrefix] = useState('')\n",
    "  \n",
    "  useEffect(() => {\n",
    "    const t = setInterval(() => {\n",
    "      console.log(prefix)\n",
    "    }, 1000)\n",
    "    return () => clearInterval(t)\n",
    "  }, [prefix])\n",
    "  \n",
    "  return <div ref={divRef}>\n",
    "    <Input label=\"prefix\" value={prefix} onChange={setPrefix} />\n",
    "    Lorem ipsum dolor sit amet, consectetur adipiscing elit. Nulla quam velit, vulputate eu pharetra nec, mattis ac neque. Duis vulputate commodo lectus, ac blandit elit tincidunt id. Sed rhoncus, tortor sed eleifend tristique, tortor mauris molestie elit, et lacinia ipsum quam nec dui. Quisque a lectus. Donec et imperdiet nibh. Suspendisse potenti.\n",
    "  </div>\n",
    "}\n",
    "```"
   ]
  },
  {
   "cell_type": "markdown",
   "id": "205ab5e5",
   "metadata": {},
   "source": [
    "Ceci fonctione, mais, si j'écris a un rythme soutenu, le `console.log` n'affichera rien, car on va nettoyer le `useEffect` avant que le `setInterval` ne soit executé."
   ]
  },
  {
   "cell_type": "markdown",
   "id": "d40d8626",
   "metadata": {},
   "source": [
    "# Utiliser `ref`\n",
    "\n",
    "```jsx\n",
    "function App() {\n",
    "  const prefixRef = useRef(null)\n",
    "  const [prefix, setPrefix] = useState('')\n",
    "  prefixRef.current = prefix\n",
    "  \n",
    "  useEffect(() => {\n",
    "    const t = setInterval(() => {\n",
    "      console.log(prefixRef.current)\n",
    "    }, 1000)\n",
    "    return () => clearInterval(t)\n",
    "  }, [prefix])\n",
    "  \n",
    "  return <div>\n",
    "    <Input label=\"prefix\" value={prefix} onChange={setPrefix} />\n",
    "    Lorem ipsum dolor sit amet, consectetur adipiscing elit. Nulla quam velit, vulputate eu pharetra nec, mattis ac neque. Duis vulputate commodo lectus, ac blandit elit tincidunt id. Sed rhoncus, tortor sed eleifend tristique, tortor mauris molestie elit, et lacinia ipsum quam nec dui. Quisque a lectus. Donec et imperdiet nibh. Suspendisse potenti.\n",
    "  </div>\n",
    "}\n",
    "```\n"
   ]
  },
  {
   "cell_type": "markdown",
   "id": "f19fea92",
   "metadata": {},
   "source": [
    "# `useRef` or `useMemo`\n",
    "\n",
    "```jsx\n",
    "function App() {\n",
    "  const prefixRef = useMemo(() => ({ current: '' }), [])\n",
    "  const [prefix, setPrefix] = useState('')\n",
    "  prefixRef.current = prefix\n",
    "  \n",
    "  useEffect(() => {\n",
    "    const t = setInterval(() => {\n",
    "      console.log(prefixRef.current)\n",
    "    }, 1000)\n",
    "    return () => clearInterval(t)\n",
    "  }, [prefix])\n",
    "  \n",
    "  return <div>\n",
    "    <Input label=\"prefix\" value={prefix} onChange={setPrefix} />\n",
    "    Lorem ipsum dolor sit amet, consectetur adipiscing elit. Nulla quam velit, vulputate eu pharetra nec, mattis ac neque. Duis vulputate commodo lectus, ac blandit elit tincidunt id. Sed rhoncus, tortor sed eleifend tristique, tortor mauris molestie elit, et lacinia ipsum quam nec dui. Quisque a lectus. Donec et imperdiet nibh. Suspendisse potenti.\n",
    "  </div>\n",
    "}\n",
    "```\n",
    "\n"
   ]
  },
  {
   "cell_type": "markdown",
   "id": "39f7ef4a",
   "metadata": {},
   "source": [
    "**Note: Le `useRef` est propre a chaques composants, si plusieurs même composants, chacun aura sa version de `ref`**"
   ]
  },
  {
   "cell_type": "markdown",
   "id": "b8c55d7b",
   "metadata": {},
   "source": [
    "# Nested `ref`\n",
    "\n",
    "```jsx\n",
    "function App() {\n",
    "  const prefixRef = useRef(null)\n",
    "  \n",
    "  return <div>\n",
    "    <Input ref={ref} label=\"prefix\" cvalue={prefix} onChange={setPrefix} />\n",
    "  </div>\n",
    "}\n",
    "\n",
    "function Input({placeholder, value, onChange, label, ref}) {\n",
    "  console.log(ref)\n",
    "  const randomId = Math.random().toString(36).substring(7);\n",
    "  return <div>\n",
    "      {label && <label className=\"form-label\" htmlFor={randomId}>{label}</label>}\n",
    "      <input\n",
    "        ref={ref}\n",
    "        id={randomId}\n",
    "        type=\"text\" \n",
    "        className=\"form-control\"\n",
    "        placeholder={placeholder} \n",
    "        value={value} \n",
    "        onChange={e => {\n",
    "          onChange(e.target.value);\n",
    "        }}/>\n",
    "    </div>\n",
    "}\n"
   ]
  },
  {
   "cell_type": "markdown",
   "id": "ea9e72b6",
   "metadata": {},
   "source": [
    "# Nested `ref`\n",
    "\n",
    "```jsx\n",
    "function App() {\n",
    "  const ref = useRef(null)\n",
    "  \n",
    "  return <div>\n",
    "    <Input inputRef={ref} label=\"prefix\" cvalue={prefix} onChange={setPrefix} />\n",
    "  </div>\n",
    "}\n",
    "\n",
    "function Input({placeholder, value, onChange, label, inputRef}) {\n",
    "  console.log(ref)\n",
    "  const randomId = Math.random().toString(36).substring(7);\n",
    "  return <div>\n",
    "      {label && <label className=\"form-label\" htmlFor={randomId}>{label}</label>}\n",
    "      <input\n",
    "        inputRef={ref}\n",
    "        id={randomId}\n",
    "        type=\"text\" \n",
    "        className=\"form-control\"\n",
    "        placeholder={placeholder} \n",
    "        value={value} \n",
    "        onChange={e => {\n",
    "          onChange(e.target.value);\n",
    "        }}/>\n",
    "    </div>\n",
    "}\n"
   ]
  },
  {
   "cell_type": "markdown",
   "id": "892140e7",
   "metadata": {},
   "source": [
    "# Nested `ref`\n",
    "\n",
    "```jsx\n",
    "function App() {\n",
    "  const ref = useRef(null)\n",
    "  const refLabel = useRef(null)\n",
    "  console.log('App', ref)\n",
    "  return <div>\n",
    "    <Input inputRef={ref} lblRef={refLabel} label=\"prefix\" cvalue={prefix} onChange={setPrefix} />\n",
    "  </div>\n",
    "}\n",
    "\n",
    "function Input({placeholder, value, onChange, label, inputRef, lblRef}) {\n",
    "  console.log('Input', inputRef)\n",
    "  const randomId = Math.random().toString(36).substring(7);\n",
    "  return <div>\n",
    "      {label && <label labelRef={lblRef} className=\"form-label\" htmlFor={randomId}>{label}</label>}\n",
    "      <input\n",
    "        inputRef={ref}\n",
    "        id={randomId}\n",
    "        type=\"text\" \n",
    "        className=\"form-control\"\n",
    "        placeholder={placeholder} \n",
    "        value={value} \n",
    "        onChange={e => {\n",
    "          onChange(e.target.value);\n",
    "        }}/>\n",
    "    </div>\n",
    "}\n"
   ]
  },
  {
   "cell_type": "markdown",
   "id": "93822502",
   "metadata": {},
   "source": [
    "# The `React` approach for ref\n",
    "\n",
    "```jsx\n",
    "import { forwardRef } from 'react'\n",
    "\n",
    "export const Input = forwardRef(\n",
    "  function Input({placeholder, value, onChange, label, inputRef}, ref) {\n",
    "    const randomId = Math.random().toString(36).substring(7);\n",
    "    return <div>\n",
    "        {label && <label className=\"form-label\" htmlFor={randomId}>{label}</label>}\n",
    "        <input\n",
    "          ref={ref}\n",
    "          id={randomId}\n",
    "          type=\"text\" \n",
    "          className=\"form-control\"\n",
    "          placeholder={placeholder} \n",
    "          value={value} \n",
    "          onChange={e => {\n",
    "            onChange(e.target.value);\n",
    "          }}/>\n",
    "      </div>\n",
    "  }\n",
    ")\n",
    "\n",
    "// ...\n",
    "\n",
    "function App() {\n",
    "  const ref = useRef(null)\n",
    "  console.log('App', ref)\n",
    "  return <div>\n",
    "    <Input ref={ref} label=\"prefix\" value={prefix} onChange={setPrefix} />\n",
    "  </div>\n",
    "}\n",
    "```"
   ]
  },
  {
   "cell_type": "markdown",
   "id": "e92ceaa2",
   "metadata": {},
   "source": [
    "**Ceci standardise nos composant en les renant comme des composants `HTML` natifs.**"
   ]
  },
  {
   "cell_type": "markdown",
   "id": "6b017579",
   "metadata": {},
   "source": [
    "# Anonymous componenet\n",
    "\n",
    "```jsx\n",
    "import { forwardRef } from 'react'\n",
    "\n",
    "export const Input = forwardRef(\n",
    "  ({placeholder, value, onChange, label, inputRef}, ref) => {\n",
    "    const randomId = Math.random().toString(36).substring(7);\n",
    "    return <div>\n",
    "        {label && <label className=\"form-label\" htmlFor={randomId}>{label}</label>}\n",
    "        <input\n",
    "          ref={ref}\n",
    "          id={randomId}\n",
    "          type=\"text\" \n",
    "          className=\"form-control\"\n",
    "          placeholder={placeholder} \n",
    "          value={value} \n",
    "          onChange={e => {\n",
    "            onChange(e.target.value);\n",
    "          }}/>\n",
    "      </div>\n",
    "  }\n",
    ")\n",
    "```"
   ]
  },
  {
   "cell_type": "markdown",
   "id": "937dc789",
   "metadata": {},
   "source": [
    "# Anonymous componenet\n",
    "\n",
    "```jsx\n",
    "import { forwardRef } from 'react'\n",
    "\n",
    "export const Input = forwardRef(\n",
    "  ({placeholder, value, onChange, label, inputRef}, ref) => {\n",
    "    const randomId = Math.random().toString(36).substring(7);\n",
    "    return <div>\n",
    "        {label && <label className=\"form-label\" htmlFor={randomId}>{label}</label>}\n",
    "        <input\n",
    "          ref={ref}\n",
    "          id={randomId}\n",
    "          type=\"text\" \n",
    "          className=\"form-control\"\n",
    "          placeholder={placeholder} \n",
    "          value={value} \n",
    "          onChange={e => {\n",
    "            onChange(e.target.value);\n",
    "          }}/>\n",
    "      </div>\n",
    "  }\n",
    ")\n",
    "\n",
    "Input.displayName = 'Input'\n",
    "```"
   ]
  },
  {
   "cell_type": "markdown",
   "id": "29a1202b",
   "metadata": {},
   "source": [
    "# Conclusion\n",
    "\n",
    "- `useRef` nous permet d'avoir un objet unique qui va persister tout au long du cycle de vie du composant.\n",
    "- La clé `current` qui nous permet d'assigner une valeur\n",
    "- Les ref peuvent être utilisées sur des éléments du `DOM` pour pouvoir les récupérer"
   ]
  }
 ],
 "metadata": {
  "celltoolbar": "Slideshow",
  "kernelspec": {
   "display_name": "Python 3 (ipykernel)",
   "language": "python",
   "name": "python3"
  },
  "language_info": {
   "codemirror_mode": {
    "name": "ipython",
    "version": 3
   },
   "file_extension": ".py",
   "mimetype": "text/x-python",
   "name": "python",
   "nbconvert_exporter": "python",
   "pygments_lexer": "ipython3",
   "version": "3.10.13"
  }
 },
 "nbformat": 4,
 "nbformat_minor": 5
}

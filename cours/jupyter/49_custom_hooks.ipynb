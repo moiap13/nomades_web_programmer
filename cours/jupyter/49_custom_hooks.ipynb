{
 "cells": [
  {
   "cell_type": "markdown",
   "id": "83e01e82",
   "metadata": {
    "slideshow": {
     "slide_type": "slide"
    }
   },
   "source": [
    "# Custom Hooks\n",
    "\n",
    "## WebProgrammer \n",
    "## Week 4: React\n",
    "\n",
    "### Antonio Pisanello - Nomades"
   ]
  },
  {
   "cell_type": "markdown",
   "id": "9d99275e",
   "metadata": {
    "slideshow": {
     "slide_type": "slide"
    }
   },
   "source": [
    "# Introduction\n",
    "\n",
    "Dans `React` il est possible de créer ses propres `hooks`. Cela nous permettra de réutiliser du code et de le partager entre différents composants. Cela nous permettera aussi d'alléger nos composants en les rendant plus lisibles et plus faciles à maintenir.\n",
    "\n",
    "Un `hook` personnalisé est une fonction JavaScript dont le nom commence par `use` et qui peut appeler d'autres `hooks`."
   ]
  },
  {
   "cell_type": "markdown",
   "id": "22175b0b",
   "metadata": {
    "slideshow": {
     "slide_type": "slide"
    }
   },
   "source": [
    "# True/False Hook\n",
    "\n",
    "On va créer un `Hook` qui permet de passer une valeur booléenne de `true` à `false` et vice versa.\n",
    "\n",
    "Cela peut être utile pour gérer l'état d'une checkbox par exemple."
   ]
  },
  {
   "cell_type": "markdown",
   "id": "0b1e29ce",
   "metadata": {},
   "source": [
    "**Un `hook` personalisé est simplement une fonction qui contient un `hook` à l'intérieur**"
   ]
  },
  {
   "cell_type": "markdown",
   "id": "d1b48837",
   "metadata": {
    "slideshow": {
     "slide_type": "slide"
    }
   },
   "source": [
    "# Initial code\n",
    "\n",
    "```jsx\n",
    "function App() {\n",
    "  return <div>Custom Hooks</div>\n",
    "}\n",
    "export default App\n",
    "```"
   ]
  },
  {
   "cell_type": "markdown",
   "id": "32173989",
   "metadata": {},
   "source": [
    "# Initial code\n",
    "\n",
    "```jsx\n",
    "function useToggle(initialValue = false) {\n",
    "  const [value, setValue] = useState(initialValue)\n",
    "  const toggle = () => setValue(!value)\n",
    "  return [value, toggle]\n",
    "}\n",
    "\n",
    "function App() {\n",
    "  const [checked, toggleChecked] = useToggle()\n",
    "  return <div>\n",
    "    <input type=\"checkbox\" checked={checked} onChange={toggleChecked} />\n",
    "    {checked ? 'checked' : 'not checked'}\n",
    "  </div>\n",
    "}\n",
    "export default App\n",
    "```"
   ]
  },
  {
   "cell_type": "markdown",
   "id": "b20fdff2",
   "metadata": {},
   "source": [
    "**/!\\ Les hooks ne peuvent être utilisé que dans des composants, nous pouvons définir des `hooks` dans notre `custom hook`., Mais il faudra bien utiliser notre `custom hook` dans un composant**\n",
    "\n",
    "**/!\\ Dans notre `custom hook` les restrictions des `hooks` s'appliquent aussi. On n peut pas changer le nombre de `hooks`, il faut qu'ils soient définis dans le même ordre**"
   ]
  },
  {
   "cell_type": "markdown",
   "id": "9b60779e",
   "metadata": {
    "slideshow": {
     "slide_type": "slide"
    }
   },
   "source": [
    "# useIncrement Hook\n",
    "\n",
    "On va créer un `hook` qui permet d'incrémenter et décrémenter une valeur.\n",
    "\n",
    "Ce `hook` s'appelera `useIncrement` et prendra un paramètre `initialValue` qui sera la valeur de départ.\n",
    "\n",
    "Le `hook` retournera un tableau avec trois éléments:\n",
    "- La valeur actuelle\n",
    "- Une fonction pour incrémenter la valeur\n",
    "- Une fonction pour décrémenter la valeur"
   ]
  },
  {
   "cell_type": "markdown",
   "id": "17e68a8a",
   "metadata": {
    "slideshow": {
     "slide_type": "slide"
    }
   },
   "source": [
    "# useDocumentTitle Hook\n",
    "\n",
    "On va créer un `hook` qui permet de changer le titre du document.\n",
    "\n",
    "Ce `hook` s'appelera `useDocumentTitle` et prendra en paramètre un string a afficher en titre de document.\n",
    "\n",
    "Un `input type=\"text\"` permettra de changer le titre du document.\n",
    "- Si le titre est vide, le titre du document sera Le titre original\n",
    "- Si le titre n'est pas vide, le titre du document sera le titre entré (\"Editer <Le nom entré dans le tbx>\")"
   ]
  },
  {
   "cell_type": "markdown",
   "id": "2e649db9",
   "metadata": {
    "slideshow": {
     "slide_type": "slide"
    }
   },
   "source": [
    "# useDocumentTitle Hook\n",
    "\n",
    "```jsx\n",
    "function App() {\n",
    "  const [name, setName] = useState('')\n",
    "  useDocumentTitle(`Editer ${name}`)\n",
    "  return <div>\n",
    "    <input value={name} onChange={e => setName(e.target.value)} />\n",
    "  </div>\n",
    "}\n",
    "export default App\n",
    "```"
   ]
  },
  {
   "cell_type": "markdown",
   "id": "dc876762",
   "metadata": {},
   "source": [
    "# useFetch Hook\n",
    "\n",
    "Pour finir, on va créer un `hook` qui permet de faire des requêtes `fetch`.\n",
    "\n",
    "Ce `hook` s'appelera `useFetch` et prendra en paramètre une URL et des options (on utilisera ici la même signature que la vraie function fetch).\n",
    "\n",
    "Le `hook` retournera un tableau avec trois éléments:\n",
    "- Les données récupérées\n",
    "- Un état de chargement\n",
    "  Les erreurs\n",
    "\n",
    "Vous ferez vos requêtes `fetch` à l'adresse `https://jsonplaceholder.typicode.com/posts/?_limit=10?_delay=2000` pour tester votre `hook`."
   ]
  },
  {
   "cell_type": "markdown",
   "id": "c6d83d21",
   "metadata": {},
   "source": [
    "# useFetch Hook\n",
    "\n",
    "```jsx\n",
    "function App() {\n",
    "  const [data, loading, errors] = useFetch('https://jsonplaceholder.typicode.com/posts/?_limit=10?_delay=2000', {})\n",
    "  return<>\n",
    "    <div className=\"container my-2\">\n",
    "      {\n",
    "        loading && (\n",
    "          <div className=\"spinner-border\" role=\"status\">\n",
    "            <span className=\"visually-hidden\">Loading...</span>\n",
    "          </div>\n",
    "        )\n",
    "      }\n",
    "      {\n",
    "        errors && (\n",
    "          <div className=\"alert alert-danger\" role=\"alert\">\n",
    "            {errors.toString()}\n",
    "          </div>\n",
    "        )\n",
    "      }\n",
    "      {\n",
    "        data && (\n",
    "          <div>\n",
    "            {/* J'aimerais que vous affichiez dans ce div une liste a puce (ul/li) de tous les titres des postes (post.title)*/}\n",
    "            {data.toString()}\n",
    "          </div>\n",
    "        )\n",
    "      }\n",
    "      <input value={name} onChange={e => setName(e.target.value)} />\n",
    "    </div>\n",
    "  </>\n",
    "}\n",
    "export default App\n",
    "```"
   ]
  },
  {
   "cell_type": "markdown",
   "id": "bbac25a2",
   "metadata": {},
   "source": [
    "# They have done it for us <3\n",
    "\n",
    "- [Use Hooks](usehooks.com)\n",
    "- [Use Hooks (TypeScript)](usehooks-ts.com)\n",
    "- [React Use](https://github.com/streamich/react-use)"
   ]
  }
 ],
 "metadata": {
  "celltoolbar": "Slideshow",
  "kernelspec": {
   "display_name": "Python 3 (ipykernel)",
   "language": "python",
   "name": "python3"
  },
  "language_info": {
   "codemirror_mode": {
    "name": "ipython",
    "version": 3
   },
   "file_extension": ".py",
   "mimetype": "text/x-python",
   "name": "python",
   "nbconvert_exporter": "python",
   "pygments_lexer": "ipython3",
   "version": "3.10.13"
  }
 },
 "nbformat": 4,
 "nbformat_minor": 5
}

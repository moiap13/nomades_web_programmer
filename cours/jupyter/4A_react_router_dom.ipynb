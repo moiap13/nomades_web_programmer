{
 "cells": [
  {
   "cell_type": "markdown",
   "id": "83e01e82",
   "metadata": {
    "slideshow": {
     "slide_type": "slide"
    }
   },
   "source": [
    "# React router dom\n",
    "\n",
    "## WebProgrammer \n",
    "## Week 4: React\n",
    "\n",
    "### Antonio Pisanello - Nomades"
   ]
  },
  {
   "cell_type": "markdown",
   "id": "9d99275e",
   "metadata": {
    "slideshow": {
     "slide_type": "slide"
    }
   },
   "source": [
    "# Introduction\n",
    "\n",
    "La librairie `react-router-dom` permet de gérer la navigation dans une application React. Elle permet de définir des routes et de les associer à des composants. Elle permet également de gérer les paramètres de l'URL.\n",
    "\n",
    "Nous verrons aussi la partie loader, qui permet d'aller chercher des données sur une API."
   ]
  },
  {
   "cell_type": "markdown",
   "id": "22175b0b",
   "metadata": {
    "slideshow": {
     "slide_type": "slide"
    }
   },
   "source": [
    "# Installation\n",
    "\n",
    "Pour installer `react-router-dom`, il suffit de lancer la commande suivante dans le terminal:\n",
    "\n",
    "```bash\n",
    "npm install react-router-dom\n",
    "```"
   ]
  },
  {
   "cell_type": "markdown",
   "id": "d1b48837",
   "metadata": {
    "slideshow": {
     "slide_type": "slide"
    }
   },
   "source": [
    "# Utilisation\n",
    "\n",
    "Pour pouvoir utiliser `react-router-dom`, il faudra importer le composant `createBrowserRouter`\n",
    "\n",
    "L'objet `createBrowserRouter` permet de définir les routes de l'application. Il attend en paramètre un tableau de routes.\n",
    " Une route est définie grâce à la propriété `path` qui correspond à l'URL de la route et la propriété `element` qui correspond au composant à afficher (`jsx`)."
   ]
  },
  {
   "cell_type": "markdown",
   "id": "9b60779e",
   "metadata": {
    "slideshow": {
     "slide_type": "slide"
    }
   },
   "source": [
    "# Links\n",
    "\n",
    "Comme `React`, est un one pager, il est pas possible d'utiliser les liens tels que l'on connait en `HTML`. Pour cela, `react-router-dom` propose le composant `Link` qui permet de créer des liens entre les différentes routes.\n",
    "\n",
    "Le composant `link` crée un lien dans la page web. Il prend en paramètre la propriété `to` qui correspond à l'URL de la route.\n",
    "\n",
    "```jsx\n",
    "<Link to=\"/home\">Home</Link>\n",
    "```\n"
   ]
  },
  {
   "cell_type": "markdown",
   "id": "17e68a8a",
   "metadata": {
    "slideshow": {
     "slide_type": "slide"
    }
   },
   "source": [
    "# NavLink\n",
    "\n",
    "Le composant `NavLink` est similaire au composant `Link` mais il permet de définir un style pour les liens actifs.\n",
    "\n",
    "```jsx\n",
    "<NavLink to=\"/home\">Home</NavLink>\n",
    "```\n",
    "\n",
    "Cette fois, on voit deux propriétés supplémentaires en `HTML`, aria-current et la classe active."
   ]
  },
  {
   "cell_type": "markdown",
   "id": "2e649db9",
   "metadata": {
    "slideshow": {
     "slide_type": "slide"
    }
   },
   "source": [
    "# Parameters\n",
    "\n",
    "Il est possible de définir des paramètres dans l'URL. Pour cela, il suffit de définir le paramètre dans l'URL avec `:`.\n",
    "\n",
    "```jsx\n",
    "<Route path=\"/blog/:id\" element={<Single />} />\n",
    "```"
   ]
  },
  {
   "cell_type": "markdown",
   "id": "1313e4e4",
   "metadata": {
    "slideshow": {
     "slide_type": "slide"
    }
   },
   "source": [
    "# Parameters\n",
    "\n",
    "Pour récupérer les paramètres de l'URL, il suffit d'utiliser le hook `useParams` de `react-router-dom`.\n",
    "\n",
    "```jsx\n",
    "const { id } = useParams();\n",
    "```"
   ]
  },
  {
   "cell_type": "markdown",
   "id": "dc876762",
   "metadata": {
    "slideshow": {
     "slide_type": "slide"
    }
   },
   "source": [
    "# Nested Routes\n",
    "\n",
    "Il est possible de définir des routes imbriquées. Pour commencer, créons une route `root`. Nous ajouterons une nouvelle propriété `children` qui correspond à un tableau de routes.\n",
    "\n",
    "```jsx\n",
    "createBrowserRouter({\n",
    "  path: \"/\",\n",
    "  element: <div>Root</div>,\n",
    "  children: [\n",
    "    { path: \"blog\", element: <div>Blog</div> },\n",
    "    { path: \"contacts\", element: <div>Contacts</div> },\n",
    "  ],\n",
    "});\n",
    "```"
   ]
  },
  {
   "cell_type": "markdown",
   "id": "f1b20907",
   "metadata": {
    "slideshow": {
     "slide_type": "slide"
    }
   },
   "source": [
    "Ici, si on va sur blog ou contacts, on verra le composant `<div>Root</div>`."
   ]
  },
  {
   "cell_type": "markdown",
   "id": "6e8989d8",
   "metadata": {
    "slideshow": {
     "slide_type": "slide"
    }
   },
   "source": [
    "# Outlet\n",
    "\n",
    "Le composant `Outlet` permet de définir l'endroit où afficher les composants enfants.\n",
    "\n",
    "```jsx\n",
    "createBrowserRouter({\n",
    "  path: \"/\",\n",
    "  element: <div><Outlet /></div>,\n",
    "  children: [\n",
    "    { path: \"blog\", element: <div>Blog</div> },\n",
    "    { path: \"contacts\", element: <div>Contacts</div> },\n",
    "  ],\n",
    "});\n",
    "```"
   ]
  },
  {
   "cell_type": "markdown",
   "id": "205ab5e5",
   "metadata": {
    "slideshow": {
     "slide_type": "slide"
    }
   },
   "source": [
    "```jsx\n",
    "function Root() {\n",
    "  return <>\n",
    "    <header>\n",
    "      <nav>\n",
    "        <NavLink to=\"/blog\">Blog</Link>\n",
    "        <NavLink to=\"/contacts\">Contacts</Link>\n",
    "      </nav>\n",
    "    </header>\n",
    "    <div className=\"container my-4\">\n",
    "      <Outlet />\n",
    "    </div>\n",
    "  </>\n",
    "}\n",
    "```"
   ]
  },
  {
   "cell_type": "markdown",
   "id": "d40d8626",
   "metadata": {
    "slideshow": {
     "slide_type": "slide"
    }
   },
   "source": [
    "```jsx\n",
    "createBrowserRouter({\n",
    "  path: \"/\",\n",
    "  element: <Root />,\n",
    "  children: [\n",
    "    { path: \"blog\", element: <div>Blog</div> },\n",
    "    { path: \"contacts\", element: <div>Contacts</div> },\n",
    "  ],\n",
    "});\n",
    "```"
   ]
  },
  {
   "cell_type": "markdown",
   "id": "f19fea92",
   "metadata": {
    "slideshow": {
     "slide_type": "slide"
    }
   },
   "source": [
    "# ErrorElement\n",
    "\n",
    "Il est possible de définir un composant à afficher en cas d'erreur. Pour cela, il suffit de définir la propriété `errorElement` de `createBrowserRouter`.\n",
    "\n",
    "```jsx\n",
    "createBrowserRouter({\n",
    "  path: \"/\",\n",
    "  element: <Root />,\n",
    "  children: [\n",
    "    { path: \"blog\", element: <div>Blog</div> },\n",
    "    { path: \"contacts\", element: <div>Contacts</div> },\n",
    "  ],\n",
    "  errorElement: <ErrorPage />,\n",
    "});\n",
    "```"
   ]
  },
  {
   "cell_type": "markdown",
   "id": "39f7ef4a",
   "metadata": {
    "slideshow": {
     "slide_type": "slide"
    }
   },
   "source": [
    "```jsx\n",
    "function ErrorPage() {\n",
    "  const error = useRootError();\n",
    "  console.log(error);\n",
    "  \n",
    "  return <>\n",
    "    <h1>An error occured</h1>\n",
    "    <p>{ error?.error?.toString() ?? error?.toString() }</p>\n",
    "  </>\n",
    "}\n",
    "```"
   ]
  },
  {
   "cell_type": "markdown",
   "id": "b8c55d7b",
   "metadata": {
    "slideshow": {
     "slide_type": "slide"
    }
   },
   "source": [
    "```jsx\n",
    "createBrowserRouter({\n",
    "  path: \"/\",\n",
    "  element: <Root />,\n",
    "  errorElement: <ErrorPage />,\n",
    "  children: [\n",
    "    { \n",
    "      path: \"blog\",\n",
    "      children: [\n",
    "        { path: \"\", element: <div>My Blog</div> },\n",
    "        { path: \":id\", element: <Single /> },\n",
    "      ]\n",
    "    },\n",
    "    { path: \"contacts\", element: <div>Contacts</div> },\n",
    "  ],\n",
    "});\n",
    "```"
   ]
  },
  {
   "cell_type": "markdown",
   "id": "ea9e72b6",
   "metadata": {
    "slideshow": {
     "slide_type": "slide"
    }
   },
   "source": [
    "```jsx\n",
    "createBrowserRouter({\n",
    "  path: \"/\",\n",
    "  element: <Root />,\n",
    "  errorElement: <ErrorPage />,\n",
    "  children: [\n",
    "    { \n",
    "      path: \"blog\",\n",
    "      element: <div className=\"row\">\n",
    "        <aside className=\"col-3\">c\n",
    "          <h2>Sidebar</h2>\n",
    "        </aside>\n",
    "        <main className=\"col-9\">\n",
    "          <Outlet />\n",
    "        </main>\n",
    "      </div>,\n",
    "      children: [\n",
    "        { path: \"\", element: <div>My Blog</div> },\n",
    "        { path: \":id\", element: <Single /> },\n",
    "      ]\n",
    "    },\n",
    "    { path: \"contacts\", element: <div>Contacts</div> },\n",
    "  ],\n",
    "});\n",
    "```"
   ]
  },
  {
   "cell_type": "markdown",
   "id": "892140e7",
   "metadata": {
    "slideshow": {
     "slide_type": "slide"
    }
   },
   "source": [
    "# Data Loader\n",
    "\n",
    "Il est possible de charger des données avant d'afficher un composant. Pour cela, il suffit de définir la propriété `loader` de `createBrowserRouter`.\n",
    "\n",
    "Le loader va nous permettre de précharger des données avant de rendre le composant dans le navigateur."
   ]
  },
  {
   "cell_type": "markdown",
   "id": "93822502",
   "metadata": {
    "slideshow": {
     "slide_type": "slide"
    }
   },
   "source": [
    "```jsx\n",
    "children: [\n",
    "  { path: \"\", element: <BlogPage />, loader: () => fetch(\"https://jsonplaceholder.typicode.com/posts?_limit=10\") },\n",
    "  { path: \":id\", element: <Single /> },\n",
    "]\n",
    "```\n",
    "\n",
    "Ici, si on retourne directement le fetch, on récupérera directmeent la valeur en `JSON`"
   ]
  },
  {
   "cell_type": "markdown",
   "id": "e92ceaa2",
   "metadata": {
    "slideshow": {
     "slide_type": "slide"
    }
   },
   "source": [
    "Pour récupérer les données dans le composant, il suffit d'utiliser le hook `useLoaderData`.\n",
    "\n",
    "```jsx\n",
    "export function BlogPage() {\n",
    "  const data = useLoaderData();\n",
    "  console.log(data);\n",
    "  \n",
    "  return <>\n",
    "    <h1>My Blog</h1>\n",
    "    <ul>\n",
    "      { data.map(post => <li key={post.id}>{ post.title }</li>) }\n",
    "    </ul>\n",
    "  </>\n",
    "}\n",
    "```"
   ]
  },
  {
   "cell_type": "markdown",
   "id": "6b017579",
   "metadata": {
    "slideshow": {
     "slide_type": "slide"
    }
   },
   "source": [
    "Ici, ce qu'il se passe, c'est que le composant `BlogPage` attend que le fetch soit terminé pour afficher les données.\n",
    "\n",
    "On va se rendre sur le composant a la route `/blog` que lorsque le fetch est terminé.\n",
    "\n",
    "Ici l'utilisateur n'a pas de feedback, il ne voit pas qu'il se passe quelque chose"
   ]
  },
  {
   "cell_type": "markdown",
   "id": "d1f81ec1",
   "metadata": {
    "slideshow": {
     "slide_type": "slide"
    }
   },
   "source": [
    "# useNavigation\n",
    "\n",
    "On peut utiliser le hook `useNavigation` pour récupérer l'état du `router`.\n",
    "\n",
    "```jsx\n",
    "function Root() {\n",
    "  const { state } = useNavigation(); // state can be: \"idle\", \"loading\", \"submitting\"\n",
    "  return <>\n",
    "    <header>\n",
    "      <nav>\n",
    "        <NavLink to=\"/blog\">Blog</Link>\n",
    "        <NavLink to=\"/contacts\">Contacts</Link>\n",
    "      </nav>\n",
    "    </header>\n",
    "    <div className=\"container my-4\">\n",
    "      <Outlet />\n",
    "      { state === \"loading\" && <Spinner /> }\n",
    "    </div>\n",
    "  </>\n",
    "}\n",
    "```\n"
   ]
  },
  {
   "cell_type": "markdown",
   "id": "2b2eb7c1",
   "metadata": {
    "slideshow": {
     "slide_type": "slide"
    }
   },
   "source": [
    "# 2nd approach\n",
    "\n",
    "Je peux aussi choisir de me rendre sur la page souhaitée (`blog` dans ce cas) et attendre que le fetch soit terminé pour afficher les données.\n",
    "\n",
    "Cete fois quand j'utilise le `loader` on ne va pas retourner simplement le retour de `Fetch` mais on va utiliser la method de `react-router-dom` qui s'appelle `defer`."
   ]
  },
  {
   "cell_type": "markdown",
   "id": "edca8498",
   "metadata": {
    "slideshow": {
     "slide_type": "slide"
    }
   },
   "source": [
    "```jsx\n",
    "children: [\n",
    "  { path: \"\", element: <BlogPage />, loader: () => {\n",
    "    const posts = fetch(\"https://jsonplaceholder.typicode.com/posts?_limit=10\").then(res => res.json());\n",
    "    return defer({ posts });\n",
    "  }},\n",
    "  { path: \":id\", element: <Single /> },\n",
    "]\n",
    "```"
   ]
  },
  {
   "cell_type": "markdown",
   "id": "11f140be",
   "metadata": {
    "slideshow": {
     "slide_type": "slide"
    }
   },
   "source": [
    "# The suspense component\n",
    "\n",
    "Le composant `Suspense` permet de définir un composant à afficher en attendant que le loader soit terminé."
   ]
  },
  {
   "cell_type": "markdown",
   "id": "a352bde2",
   "metadata": {
    "slideshow": {
     "slide_type": "slide"
    }
   },
   "source": [
    "```jsx\n",
    "export function BlogPage() {\n",
    "  const { posts } = useLoaderData();\n",
    "  console.log(data);\n",
    "  \n",
    "  return <>\n",
    "    <h1>My Blog</h1>\n",
    "    <Suspense fallback={<Spinner />} />\n",
    "      <Await resolve={posts}>\n",
    "        { data => (\n",
    "          <ul>\n",
    "            { data.map(post => <li key={post.id}>{ post.title }</li>) }\n",
    "          </ul>) \n",
    "        }\n",
    "      </Await>\n",
    "    </Suspense>\n",
    "  </>\n",
    "}\n",
    "```"
   ]
  },
  {
   "cell_type": "markdown",
   "id": "533f8fd7",
   "metadata": {
    "slideshow": {
     "slide_type": "slide"
    }
   },
   "source": [
    "```jsx\n",
    "export function BlogPage() {\n",
    "  const { posts } = useLoaderData();\n",
    "  console.log(data);\n",
    "  \n",
    "  return <>\n",
    "    <h1>My Blog</h1>\n",
    "    <Suspense fallback={<Spinner />} />\n",
    "      <Await resolve={posts}>\n",
    "        <Posts />\n",
    "      </Await>\n",
    "    </Suspense>\n",
    "  </>\n",
    "}\n",
    "\n",
    "function Posts() {\n",
    "  const posts = useAsyncValue();\n",
    "  return { data => (\n",
    "          <ul>\n",
    "            { data.map(post => <li key={post.id}>{ post.title }</li>) }\n",
    "          </ul>) \n",
    "        }\n",
    "}\n",
    "```"
   ]
  }
 ],
 "metadata": {
  "celltoolbar": "Slideshow",
  "kernelspec": {
   "display_name": "Python 3 (ipykernel)",
   "language": "python",
   "name": "python3"
  },
  "language_info": {
   "codemirror_mode": {
    "name": "ipython",
    "version": 3
   },
   "file_extension": ".py",
   "mimetype": "text/x-python",
   "name": "python",
   "nbconvert_exporter": "python",
   "pygments_lexer": "ipython3",
   "version": "3.10.13"
  }
 },
 "nbformat": 4,
 "nbformat_minor": 5
}

{
 "cells": [
  {
   "cell_type": "markdown",
   "id": "83e01e82",
   "metadata": {
    "slideshow": {
     "slide_type": "slide"
    }
   },
   "source": [
    "# TP0 - Liste de Produits\n",
    "\n",
    "## WebProgrammer \n",
    "## Week 4: React\n",
    "\n",
    "### Antonio Pisanello - Nomades"
   ]
  },
  {
   "cell_type": "markdown",
   "id": "9d99275e",
   "metadata": {
    "slideshow": {
     "slide_type": "slide"
    }
   },
   "source": [
    "# Introduction\n",
    "\n",
    "Vous aller implémenter une petite application React qui permet de gérer une liste de produits. Chaque produit est caractérisé par une catégorie, un nom, s'il est en stock et un prix. L'application permettra de filter les roduits par catégorie, de les rechercher et filter les produits en stock."
   ]
  },
  {
   "cell_type": "markdown",
   "id": "22175b0b",
   "metadata": {},
   "source": [
    "# La vue\n",
    "\n",
    "Voici la vue que vous aller devoir reproduire:\n",
    "\n",
    "<img src=\"./imgs/tp0_view_0.png\" width=\"400\" height=\"400\" />"
   ]
  },
  {
   "cell_type": "markdown",
   "id": "d1b48837",
   "metadata": {},
   "source": [
    "# Pro Tips\n",
    "\n",
    "Quand on commence à développer une application React, il est important de bien penser à la structure des composants. \n",
    "\n",
    "Comme pour la logique, on va essayer de séparer la vue en plusieurs petits composants qui auront chacun une responsabilité bien définie."
   ]
  },
  {
   "cell_type": "markdown",
   "id": "9b60779e",
   "metadata": {},
   "source": [
    "# Pro Tips\n",
    "\n",
    "Voici un example de découpage de la vue en composants:\n",
    "<img src=\"./imgs/tp0_composants.png\" width=\"400\" height=\"400\" />"
   ]
  },
  {
   "cell_type": "markdown",
   "id": "17e68a8a",
   "metadata": {},
   "source": [
    "# SearchBar\n",
    "\n",
    "Voici une possibilité pour découper la searchbar en deux composants:\n",
    "<img src=\"./imgs/tp0_composants_searchbar.png\" width=\"400\" height=\"400\" />"
   ]
  },
  {
   "cell_type": "markdown",
   "id": "2e649db9",
   "metadata": {},
   "source": [
    "# ProductTable\n",
    "\n",
    "Voici une possibilité pour découper la table en deux composants:\n",
    "<img src=\"./imgs/tp0_composants_productTable\" width=\"400\" height=\"400\" />"
   ]
  },
  {
   "cell_type": "markdown",
   "id": "c3a09e9d",
   "metadata": {},
   "source": [
    "# Pro Tips\n",
    "\n",
    "De manière générale, essayé de faire les composants les plus dynamiques possibles. Par example le composant `<checkBox />` peut prendre en `props` le texte à afficher et l'état du checkbox. et finalment c'est juste un checkbox ou le texte est simplement un paramètre du composant.\n",
    "\n",
    "Cela permettera de réutiliser le composant `<checkBox />` dans d'autres composants. Et de ne pas redéfinir le même comportement plusieurs fois."
   ]
  },
  {
   "cell_type": "markdown",
   "id": "03c835b7",
   "metadata": {},
   "source": [
    "# uncontrolled input\n",
    "\n",
    "```jsx\n",
    "import { useState } from 'react';\n",
    "\n",
    "function App() {\n",
    "  const handleData = (e) => {\n",
    "    e.preventDefault();\n",
    "    console.log(new FormData(e.target).get(\"myInput\");\n",
    "  }\n",
    "\n",
    "  return <form onSubmit={handleData}>\n",
    "    <label forHtml=\"myInput\">\n",
    "      Name:\n",
    "      <input type=\"text\" name=\"myInput\" id=\"myInput\"/>\n",
    "    </label>\n",
    "    <input type=\"submit\" value=\"Submit\" />\n",
    "  </form>\n",
    "}\n",
    "export default App\n",
    "```"
   ]
  },
  {
   "cell_type": "markdown",
   "id": "99e8f5fa",
   "metadata": {},
   "source": [
    "# uncontrolled input - defaultValue\n",
    "```jsx\n",
    "import { useState } from 'react';\n",
    "\n",
    "function App() {\n",
    "  const handleData = (e) => {\n",
    "    e.preventDefault();\n",
    "    console.log(new FormData(e.target).get(\"myInput\");\n",
    "  }\n",
    "\n",
    "  return <form onSubmit={handleData}>\n",
    "    <label forHtml=\"myInput\">\n",
    "      Name:\n",
    "      <input type=\"text\" name=\"myInput\" id=\"myInput\" defaultValue=\"Some default value\"/>\n",
    "    </label>\n",
    "    <input type=\"submit\" value=\"Submit\" />\n",
    "  </form>\n",
    "}\n",
    "export default App\n",
    "```"
   ]
  },
  {
   "cell_type": "markdown",
   "id": "63060ff3",
   "metadata": {
    "slideshow": {
     "slide_type": "slide"
    }
   },
   "source": [
    "# Controlled or Uncotrolled\n",
    "## Controlled\n",
    "\n",
    "On va choisir d'utiliser un champs controlé quand on veut avoir un rendu dynamique a chaques changements\n",
    "\n",
    "Gere très bien le `reset` aussi\n",
    "\n",
    "**/!\\ Pour changer la valeur d'un champs contollé, il ne faut pas oublier de spécifier les attributs `value` est `onChange`**"
   ]
  },
  {
   "cell_type": "markdown",
   "id": "6f7a8d03",
   "metadata": {},
   "source": [
    "# Controlled or Uncotrolled\n",
    "## Uncontrolled\n",
    "\n",
    "On va choisir d'utiliser un champs non controlé quand on s'en fiche d'avoir la valeur a chaques changements. Si on a besoin de la valeur seulement à la fin de l'interaction un champs non controlé est plus adapté.\n",
    "\n",
    "**/!\\ Si on veut un champs non controlé il ne faut pas spécifier l'attribut `value`**\n",
    "**/!\\ Si on veut un champs non controlé avec une valeur par défaut, il faut utiliser l'attribut `defaultValue`**"
   ]
  },
  {
   "cell_type": "markdown",
   "id": "4711c1e2",
   "metadata": {},
   "source": [
    "# Forms - edge case\n",
    "\n",
    "```jsx\n",
    "import { useState } from 'react';\n",
    "\n",
    "function App() {\n",
    "  const [value, setValue] = useState(undefined);\n",
    "  const handleChange = (e) => {\n",
    "    setValue(e.target.value);\n",
    "  }\n",
    "\n",
    "  return <form>\n",
    "    <label forHtml=\"myInput\">\n",
    "      Name:\n",
    "      <input type=\"text\" name=\"myInput\" id=\"myInput\" value={value} onChange={handleChange}/>\n",
    "    </label>\n",
    "    <input type=\"submit\" value=\"Submit\" />\n",
    "  </form>\n",
    "}"
   ]
  },
  {
   "cell_type": "markdown",
   "id": "85042ddc",
   "metadata": {},
   "source": [
    "Ici, on passe d'un champs non controlé (`undefined`) a un champs controlé. Quand on passe d'un champs non controlé a un champs controlé, on va avoir un eerreur dans la console, `A component is changing an uncontrolled input to be controlled.`.\n",
    "\n",
    "Si vous avez cette erreur, cela signifie que votre `value` est passé a `undefined` ou `null` a un moment donné.\n",
    "\n",
    "Pour éviter ceci, mettez une valeur chaîne vide (`''`) en paramètre de `useState`"
   ]
  },
  {
   "cell_type": "markdown",
   "id": "b7e7b057",
   "metadata": {},
   "source": [
    "# Forms - Textarea\n",
    "\n",
    "```jsx\n",
    "import { useState } from 'react';\n",
    "\n",
    "function App() {\n",
    "  const [value, setValue] = useState(\"\");\n",
    "  const handleChange = (e) => {\n",
    "    setValue(e.target.value);\n",
    "  }\n",
    "\n",
    "  return <form>\n",
    "    <label forHtml=\"myInput\">\n",
    "      Name:\n",
    "    </label>\n",
    "    <textarea name=\"myInput\" id=\"myInput\" value={value} onChange={handleChange}/>\n",
    "    <input type=\"submit\" value=\"Submit\" />\n",
    "  </form>\n",
    "}\n",
    "export default App\n",
    "```\n",
    "\n",
    "**/!\\ le `textArea` en `JSX` est géré differement qu'en `HTML`**"
   ]
  },
  {
   "cell_type": "markdown",
   "id": "64295c49",
   "metadata": {},
   "source": [
    "# Forms - Checkbox\n",
    "```jsx\n",
    "import { useState } from 'react';\n",
    "\n",
    "function App() {\n",
    "  const [value, setValue] = useState(\"\");\n",
    "  const handleChange = (e) => {\n",
    "    setValue(e.target.value);\n",
    "  }\n",
    "  const [checked, setChecked] = useState(false);\n",
    "  const toggleCheck = (e) => {\n",
    "    setChecked(!checked);\n",
    "  }\n",
    "\n",
    "\n",
    "  return <form>\n",
    "    <label forHtml=\"myInput\">\n",
    "      Name:\n",
    "    </label>\n",
    "    <textarea name=\"myInput\" id=\"myInput\" value={value} onChange={handleChange}/>\n",
    "    <input type=\"checkbox\" name=\"myCheck\" id=\"myCheck\" checked={checked} onChange={toggleCheck}/>\n",
    "    {checked && <input type=\"submit\" value=\"Submit\" />}\n",
    "  </form>\n",
    "}\n",
    "export default App\n",
    "```\n",
    "\n",
    "**/!\\ les `checkbox` en `JSX` est géré differement qu'en `HTML`**"
   ]
  },
  {
   "cell_type": "markdown",
   "id": "b6d8368b",
   "metadata": {},
   "source": [
    "# Forms - Checkbox\n",
    "```jsx\n",
    "import { useState } from 'react';\n",
    "\n",
    "function App() {\n",
    "  const [value, setValue] = useState(\"\");\n",
    "  const handleChange = (e) => {\n",
    "    setValue(e.target.value);\n",
    "  }\n",
    "  const [checked, setChecked] = useState(false);\n",
    "  const toggleCheck = (e) => {\n",
    "    setChecked(!checked);\n",
    "  }\n",
    "\n",
    "\n",
    "  return <form>\n",
    "    <label forHtml=\"myInput\">\n",
    "      Name:\n",
    "    </label>\n",
    "    <textarea name=\"myInput\" id=\"myInput\" value={value} onChange={handleChange}/>\n",
    "    <input type=\"checkbox\" name=\"myCheck\" id=\"myCheck\" checked={checked} onChange={toggleCheck}/>\n",
    "    <input type=\"submit\" value=\"Submit\" disabled={!checked}/>\n",
    "  </form>\n",
    "}\n",
    "export default App\n",
    "```\n",
    "\n",
    "**/!\\ les `checkbox` en `JSX` est géré differement qu'en `HTML`**"
   ]
  }
 ],
 "metadata": {
  "celltoolbar": "Slideshow",
  "kernelspec": {
   "display_name": "Python 3 (ipykernel)",
   "language": "python",
   "name": "python3"
  },
  "language_info": {
   "codemirror_mode": {
    "name": "ipython",
    "version": 3
   },
   "file_extension": ".py",
   "mimetype": "text/x-python",
   "name": "python",
   "nbconvert_exporter": "python",
   "pygments_lexer": "ipython3",
   "version": "3.10.13"
  }
 },
 "nbformat": 4,
 "nbformat_minor": 5
}
